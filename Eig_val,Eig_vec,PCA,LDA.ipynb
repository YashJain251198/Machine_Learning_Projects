{
 "cells": [
  {
   "cell_type": "markdown",
   "id": "3b7872af",
   "metadata": {},
   "source": [
    "# Topics Covered :\n",
    "* 1 - Eigen Value\n",
    "* 2 - Eigen Vector\n",
    "* 3 - PCA (Principal Component Analysis)\n",
    "* 4 - LDA (Linear Discriminant analysis)"
   ]
  },
  {
   "cell_type": "markdown",
   "id": "eb72efb1",
   "metadata": {},
   "source": [
    "# Import Libraries :"
   ]
  },
  {
   "cell_type": "code",
   "execution_count": 2,
   "id": "1d7b4082",
   "metadata": {},
   "outputs": [],
   "source": [
    "import pandas as pd\n",
    "import numpy as np\n",
    "import matplotlib.pyplot as plt\n",
    "import seaborn as sns\n",
    "from sklearn.preprocessing import StandardScaler,LabelEncoder\n",
    "from sklearn.cluster import KMeans,AgglomerativeClustering,DBSCAN\n",
    "import warnings\n",
    "warnings.filterwarnings('ignore')\n",
    "from yellowbrick.cluster import KElbowVisualizer,SilhouetteVisualizer\n",
    "from sklearn.metrics import silhouette_score\n",
    "from scipy.cluster.hierarchy import linkage,cophenet,dendrogram\n",
    "np.set_printoptions(suppress=True) # Avoid the number in exponent form\n",
    "from sklearn.metrics.pairwise import euclidean_distances"
   ]
  },
  {
   "cell_type": "markdown",
   "id": "5591501a",
   "metadata": {},
   "source": [
    "# Read Data"
   ]
  },
  {
   "cell_type": "code",
   "execution_count": 3,
   "id": "10cdd819",
   "metadata": {},
   "outputs": [
    {
     "data": {
      "text/html": [
       "<div>\n",
       "<style scoped>\n",
       "    .dataframe tbody tr th:only-of-type {\n",
       "        vertical-align: middle;\n",
       "    }\n",
       "\n",
       "    .dataframe tbody tr th {\n",
       "        vertical-align: top;\n",
       "    }\n",
       "\n",
       "    .dataframe thead th {\n",
       "        text-align: right;\n",
       "    }\n",
       "</style>\n",
       "<table border=\"1\" class=\"dataframe\">\n",
       "  <thead>\n",
       "    <tr style=\"text-align: right;\">\n",
       "      <th></th>\n",
       "      <th>AccelSec</th>\n",
       "      <th>TopSpeed_KmH</th>\n",
       "      <th>Range_Km</th>\n",
       "    </tr>\n",
       "  </thead>\n",
       "  <tbody>\n",
       "    <tr>\n",
       "      <th>0</th>\n",
       "      <td>4.6</td>\n",
       "      <td>233</td>\n",
       "      <td>450</td>\n",
       "    </tr>\n",
       "    <tr>\n",
       "      <th>1</th>\n",
       "      <td>10.0</td>\n",
       "      <td>160</td>\n",
       "      <td>270</td>\n",
       "    </tr>\n",
       "    <tr>\n",
       "      <th>2</th>\n",
       "      <td>4.7</td>\n",
       "      <td>210</td>\n",
       "      <td>400</td>\n",
       "    </tr>\n",
       "    <tr>\n",
       "      <th>3</th>\n",
       "      <td>6.8</td>\n",
       "      <td>180</td>\n",
       "      <td>360</td>\n",
       "    </tr>\n",
       "    <tr>\n",
       "      <th>4</th>\n",
       "      <td>9.5</td>\n",
       "      <td>145</td>\n",
       "      <td>170</td>\n",
       "    </tr>\n",
       "  </tbody>\n",
       "</table>\n",
       "</div>"
      ],
      "text/plain": [
       "   AccelSec  TopSpeed_KmH  Range_Km\n",
       "0       4.6           233       450\n",
       "1      10.0           160       270\n",
       "2       4.7           210       400\n",
       "3       6.8           180       360\n",
       "4       9.5           145       170"
      ]
     },
     "execution_count": 3,
     "metadata": {},
     "output_type": "execute_result"
    }
   ],
   "source": [
    "data = pd.read_excel(\"pca data.xlsx\")\n",
    "data.head()"
   ]
  },
  {
   "cell_type": "markdown",
   "id": "abe83511",
   "metadata": {},
   "source": [
    "# APPLYING PCA (Principal Component Analysis )"
   ]
  },
  {
   "cell_type": "markdown",
   "id": "aad84c67",
   "metadata": {},
   "source": [
    "### Step_1: Standardize the data"
   ]
  },
  {
   "cell_type": "code",
   "execution_count": 4,
   "id": "e13c41fc",
   "metadata": {},
   "outputs": [],
   "source": [
    "sc = StandardScaler()\n",
    "data_s = sc.fit_transform(data)"
   ]
  },
  {
   "cell_type": "code",
   "execution_count": 5,
   "id": "05513671",
   "metadata": {},
   "outputs": [
    {
     "data": {
      "text/html": [
       "<div>\n",
       "<style scoped>\n",
       "    .dataframe tbody tr th:only-of-type {\n",
       "        vertical-align: middle;\n",
       "    }\n",
       "\n",
       "    .dataframe tbody tr th {\n",
       "        vertical-align: top;\n",
       "    }\n",
       "\n",
       "    .dataframe thead th {\n",
       "        text-align: right;\n",
       "    }\n",
       "</style>\n",
       "<table border=\"1\" class=\"dataframe\">\n",
       "  <thead>\n",
       "    <tr style=\"text-align: right;\">\n",
       "      <th></th>\n",
       "      <th>AccelSec</th>\n",
       "      <th>TopSpeed_KmH</th>\n",
       "      <th>Range_Km</th>\n",
       "    </tr>\n",
       "  </thead>\n",
       "  <tbody>\n",
       "    <tr>\n",
       "      <th>0</th>\n",
       "      <td>-0.998198</td>\n",
       "      <td>1.540888</td>\n",
       "      <td>0.954850</td>\n",
       "    </tr>\n",
       "    <tr>\n",
       "      <th>1</th>\n",
       "      <td>1.408172</td>\n",
       "      <td>-0.690954</td>\n",
       "      <td>-0.631670</td>\n",
       "    </tr>\n",
       "    <tr>\n",
       "      <th>2</th>\n",
       "      <td>-0.953636</td>\n",
       "      <td>0.837705</td>\n",
       "      <td>0.514150</td>\n",
       "    </tr>\n",
       "    <tr>\n",
       "      <th>3</th>\n",
       "      <td>-0.017825</td>\n",
       "      <td>-0.079490</td>\n",
       "      <td>0.161590</td>\n",
       "    </tr>\n",
       "    <tr>\n",
       "      <th>4</th>\n",
       "      <td>1.185360</td>\n",
       "      <td>-1.149551</td>\n",
       "      <td>-1.513071</td>\n",
       "    </tr>\n",
       "  </tbody>\n",
       "</table>\n",
       "</div>"
      ],
      "text/plain": [
       "   AccelSec  TopSpeed_KmH  Range_Km\n",
       "0 -0.998198      1.540888  0.954850\n",
       "1  1.408172     -0.690954 -0.631670\n",
       "2 -0.953636      0.837705  0.514150\n",
       "3 -0.017825     -0.079490  0.161590\n",
       "4  1.185360     -1.149551 -1.513071"
      ]
     },
     "execution_count": 5,
     "metadata": {},
     "output_type": "execute_result"
    }
   ],
   "source": [
    "data_s = pd.DataFrame(data_s,columns=data.columns)\n",
    "data_s.head()"
   ]
  },
  {
   "cell_type": "markdown",
   "id": "9b51b6da",
   "metadata": {},
   "source": [
    "### Step 2 :covariance Matrix"
   ]
  },
  {
   "cell_type": "code",
   "execution_count": 6,
   "id": "0886daea",
   "metadata": {},
   "outputs": [
    {
     "data": {
      "text/plain": [
       "array([[ 1.07142857, -0.92455387, -0.93045171],\n",
       "       [-0.92455387,  1.07142857,  0.8855046 ],\n",
       "       [-0.93045171,  0.8855046 ,  1.07142857]])"
      ]
     },
     "execution_count": 6,
     "metadata": {},
     "output_type": "execute_result"
    }
   ],
   "source": [
    "cov_mat = np.cov(data_s.T)\n",
    "cov_mat"
   ]
  },
  {
   "cell_type": "code",
   "execution_count": 7,
   "id": "5cec7acc",
   "metadata": {},
   "outputs": [
    {
     "data": {
      "text/plain": [
       "(3, 3)"
      ]
     },
     "execution_count": 7,
     "metadata": {},
     "output_type": "execute_result"
    }
   ],
   "source": [
    "cov_mat.shape"
   ]
  },
  {
   "cell_type": "markdown",
   "id": "28bab7cf",
   "metadata": {},
   "source": [
    "### Step 3 : eigen values and eigen matrix "
   ]
  },
  {
   "cell_type": "code",
   "execution_count": 8,
   "id": "7ac0ee23",
   "metadata": {},
   "outputs": [],
   "source": [
    "eig_val,eig_vec = np.linalg.eig(cov_mat)"
   ]
  },
  {
   "cell_type": "code",
   "execution_count": 9,
   "id": "65d42421",
   "metadata": {},
   "outputs": [
    {
     "data": {
      "text/plain": [
       "array([2.89857911, 0.1295811 , 0.18612551])"
      ]
     },
     "execution_count": 9,
     "metadata": {},
     "output_type": "execute_result"
    }
   ],
   "source": [
    "eig_val"
   ]
  },
  {
   "cell_type": "code",
   "execution_count": 10,
   "id": "b7220c48",
   "metadata": {},
   "outputs": [
    {
     "data": {
      "text/plain": [
       "array([[ 0.58317464, -0.81091338, -0.04823714],\n",
       "       [-0.57378162, -0.36915023, -0.73109696],\n",
       "       [-0.57504956, -0.45403479,  0.68056625]])"
      ]
     },
     "execution_count": 10,
     "metadata": {},
     "output_type": "execute_result"
    }
   ],
   "source": [
    "eig_vec"
   ]
  },
  {
   "cell_type": "markdown",
   "id": "406caded",
   "metadata": {},
   "source": [
    "### step 4 :sorted the eigan values"
   ]
  },
  {
   "cell_type": "code",
   "execution_count": 11,
   "id": "d93cc41a",
   "metadata": {},
   "outputs": [],
   "source": [
    "eig_val1 = eig_val[2]\n",
    "eig_val2 = eig_val[1]\n",
    "eig_val3 = eig_val[0]"
   ]
  },
  {
   "cell_type": "code",
   "execution_count": 12,
   "id": "d0b38a2a",
   "metadata": {},
   "outputs": [],
   "source": [
    "eig_vec1 = eig_vec[:,0]\n",
    "eig_vec2 = eig_vec[:,2]\n",
    "eig_vec3 = eig_vec[:,1]"
   ]
  },
  {
   "cell_type": "markdown",
   "id": "3f297b76",
   "metadata": {},
   "source": [
    "### Step 5 Find out PC's"
   ]
  },
  {
   "cell_type": "code",
   "execution_count": 13,
   "id": "d07f3a6a",
   "metadata": {},
   "outputs": [],
   "source": [
    "pc_data = pd.DataFrame(columns=[\"pc1\",\"pc2\",\"pc3\"])"
   ]
  },
  {
   "cell_type": "code",
   "execution_count": 14,
   "id": "f476b1e0",
   "metadata": {},
   "outputs": [],
   "source": [
    "pc_data[\"pc1\"] = data_s.dot(eig_vec1)\n",
    "pc_data[\"pc2\"] = data_s.dot(eig_vec2)\n",
    "pc_data[\"pc3\"] = data_s.dot(eig_vec3)"
   ]
  },
  {
   "cell_type": "code",
   "execution_count": 15,
   "id": "b14bc5f6",
   "metadata": {},
   "outputs": [
    {
     "data": {
      "text/html": [
       "<div>\n",
       "<style scoped>\n",
       "    .dataframe tbody tr th:only-of-type {\n",
       "        vertical-align: middle;\n",
       "    }\n",
       "\n",
       "    .dataframe tbody tr th {\n",
       "        vertical-align: top;\n",
       "    }\n",
       "\n",
       "    .dataframe thead th {\n",
       "        text-align: right;\n",
       "    }\n",
       "</style>\n",
       "<table border=\"1\" class=\"dataframe\">\n",
       "  <thead>\n",
       "    <tr style=\"text-align: right;\">\n",
       "      <th></th>\n",
       "      <th>pc1</th>\n",
       "      <th>pc2</th>\n",
       "      <th>pc3</th>\n",
       "    </tr>\n",
       "  </thead>\n",
       "  <tbody>\n",
       "    <tr>\n",
       "      <th>0</th>\n",
       "      <td>-2.015343</td>\n",
       "      <td>-0.428549</td>\n",
       "      <td>-0.192902</td>\n",
       "    </tr>\n",
       "    <tr>\n",
       "      <th>1</th>\n",
       "      <td>1.580909</td>\n",
       "      <td>0.007335</td>\n",
       "      <td>-0.600040</td>\n",
       "    </tr>\n",
       "    <tr>\n",
       "      <th>2</th>\n",
       "      <td>-1.332458</td>\n",
       "      <td>-0.216530</td>\n",
       "      <td>0.230635</td>\n",
       "    </tr>\n",
       "    <tr>\n",
       "      <th>3</th>\n",
       "      <td>-0.057707</td>\n",
       "      <td>0.168948</td>\n",
       "      <td>-0.029569</td>\n",
       "    </tr>\n",
       "    <tr>\n",
       "      <th>4</th>\n",
       "      <td>2.220954</td>\n",
       "      <td>-0.246490</td>\n",
       "      <td>0.150120</td>\n",
       "    </tr>\n",
       "    <tr>\n",
       "      <th>5</th>\n",
       "      <td>-3.592299</td>\n",
       "      <td>0.189922</td>\n",
       "      <td>-0.374612</td>\n",
       "    </tr>\n",
       "    <tr>\n",
       "      <th>6</th>\n",
       "      <td>2.057860</td>\n",
       "      <td>-0.240429</td>\n",
       "      <td>-0.022484</td>\n",
       "    </tr>\n",
       "    <tr>\n",
       "      <th>7</th>\n",
       "      <td>1.237224</td>\n",
       "      <td>0.301688</td>\n",
       "      <td>0.179401</td>\n",
       "    </tr>\n",
       "    <tr>\n",
       "      <th>8</th>\n",
       "      <td>-0.905540</td>\n",
       "      <td>-1.111021</td>\n",
       "      <td>0.096285</td>\n",
       "    </tr>\n",
       "    <tr>\n",
       "      <th>9</th>\n",
       "      <td>-0.390385</td>\n",
       "      <td>0.419636</td>\n",
       "      <td>-0.008962</td>\n",
       "    </tr>\n",
       "    <tr>\n",
       "      <th>10</th>\n",
       "      <td>-0.550183</td>\n",
       "      <td>0.265475</td>\n",
       "      <td>0.544728</td>\n",
       "    </tr>\n",
       "    <tr>\n",
       "      <th>11</th>\n",
       "      <td>1.569269</td>\n",
       "      <td>0.110181</td>\n",
       "      <td>0.539493</td>\n",
       "    </tr>\n",
       "    <tr>\n",
       "      <th>12</th>\n",
       "      <td>0.253468</td>\n",
       "      <td>0.675818</td>\n",
       "      <td>-0.440423</td>\n",
       "    </tr>\n",
       "    <tr>\n",
       "      <th>13</th>\n",
       "      <td>-1.592373</td>\n",
       "      <td>0.321963</td>\n",
       "      <td>0.396356</td>\n",
       "    </tr>\n",
       "    <tr>\n",
       "      <th>14</th>\n",
       "      <td>1.516604</td>\n",
       "      <td>-0.217947</td>\n",
       "      <td>-0.468024</td>\n",
       "    </tr>\n",
       "  </tbody>\n",
       "</table>\n",
       "</div>"
      ],
      "text/plain": [
       "         pc1       pc2       pc3\n",
       "0  -2.015343 -0.428549 -0.192902\n",
       "1   1.580909  0.007335 -0.600040\n",
       "2  -1.332458 -0.216530  0.230635\n",
       "3  -0.057707  0.168948 -0.029569\n",
       "4   2.220954 -0.246490  0.150120\n",
       "5  -3.592299  0.189922 -0.374612\n",
       "6   2.057860 -0.240429 -0.022484\n",
       "7   1.237224  0.301688  0.179401\n",
       "8  -0.905540 -1.111021  0.096285\n",
       "9  -0.390385  0.419636 -0.008962\n",
       "10 -0.550183  0.265475  0.544728\n",
       "11  1.569269  0.110181  0.539493\n",
       "12  0.253468  0.675818 -0.440423\n",
       "13 -1.592373  0.321963  0.396356\n",
       "14  1.516604 -0.217947 -0.468024"
      ]
     },
     "execution_count": 15,
     "metadata": {},
     "output_type": "execute_result"
    }
   ],
   "source": [
    "pc_data"
   ]
  },
  {
   "cell_type": "code",
   "execution_count": 16,
   "id": "c0df65e4",
   "metadata": {},
   "outputs": [
    {
     "data": {
      "image/png": "[encoded data removed]",
      "text/plain": [
       "<Figure size 800x550 with 2 Axes>"
      ]
     },
     "metadata": {},
     "output_type": "display_data"
    }
   ],
   "source": [
    "# Make An Heat Map For PC Data :\n",
    "sns.heatmap(pc_data.corr(),annot=True);"
   ]
  },
  {
   "cell_type": "markdown",
   "id": "204b3c76",
   "metadata": {},
   "source": [
    "### Step 6: Find the explained Variance Ratios "
   ]
  },
  {
   "cell_type": "code",
   "execution_count": 17,
   "id": "9000f4c5",
   "metadata": {},
   "outputs": [
    {
     "data": {
      "text/plain": [
       "0.05790571365427058"
      ]
     },
     "execution_count": 17,
     "metadata": {},
     "output_type": "execute_result"
    }
   ],
   "source": [
    "evr_val1 = eig_val1/(np.sum(eig_val))\n",
    "evr_val1"
   ]
  },
  {
   "cell_type": "code",
   "execution_count": 18,
   "id": "097ccd99",
   "metadata": {},
   "outputs": [
    {
     "data": {
      "text/plain": [
       "0.04031411906804149"
      ]
     },
     "execution_count": 18,
     "metadata": {},
     "output_type": "execute_result"
    }
   ],
   "source": [
    "evr_val2 = eig_val2/(np.sum(eig_val))\n",
    "evr_val2"
   ]
  },
  {
   "cell_type": "code",
   "execution_count": 19,
   "id": "696b2e70",
   "metadata": {},
   "outputs": [
    {
     "data": {
      "text/plain": [
       "0.901780167277688"
      ]
     },
     "execution_count": 19,
     "metadata": {},
     "output_type": "execute_result"
    }
   ],
   "source": [
    "evr_val3 = eig_val3/(np.sum(eig_val))\n",
    "evr_val3"
   ]
  },
  {
   "cell_type": "code",
   "execution_count": 20,
   "id": "70c6dca5",
   "metadata": {},
   "outputs": [
    {
     "data": {
      "text/plain": [
       "1.0"
      ]
     },
     "execution_count": 20,
     "metadata": {},
     "output_type": "execute_result"
    }
   ],
   "source": [
    "evr_val1+evr_val2+evr_val3"
   ]
  },
  {
   "cell_type": "code",
   "execution_count": 21,
   "id": "99081fd5",
   "metadata": {},
   "outputs": [
    {
     "data": {
      "image/png": "[encoded data removed]",
      "text/plain": [
       "<Figure size 800x550 with 1 Axes>"
      ]
     },
     "metadata": {},
     "output_type": "display_data"
    }
   ],
   "source": [
    "sns.scatterplot(x=pc_data[\"pc1\"],y=pc_data[\"pc2\"]);"
   ]
  },
  {
   "cell_type": "markdown",
   "id": "b85f3935",
   "metadata": {},
   "source": [
    "### lets Apply PCA Function:"
   ]
  },
  {
   "cell_type": "code",
   "execution_count": 22,
   "id": "0f43fa89",
   "metadata": {},
   "outputs": [],
   "source": [
    "from sklearn.decomposition import PCA"
   ]
  },
  {
   "cell_type": "code",
   "execution_count": 23,
   "id": "907b06b5",
   "metadata": {},
   "outputs": [],
   "source": [
    "pca = PCA(n_components=3)"
   ]
  },
  {
   "cell_type": "code",
   "execution_count": 24,
   "id": "234f3467",
   "metadata": {},
   "outputs": [
    {
     "data": {
      "text/plain": [
       "array([[ 2.01534332,  0.42854947,  0.19290249],\n",
       "       [-1.58090855, -0.00733457,  0.60003952],\n",
       "       [ 1.33245768,  0.21652969, -0.23063468],\n",
       "       [ 0.05770731, -0.16894766,  0.02956916],\n",
       "       [-2.22095403,  0.2464896 , -0.15011962],\n",
       "       [ 3.59229911, -0.18992155,  0.37461188],\n",
       "       [-2.05786028,  0.24042868,  0.0224844 ],\n",
       "       [-1.23722373, -0.30168841, -0.1794009 ],\n",
       "       [ 0.90553959,  1.11102134, -0.09628478],\n",
       "       [ 0.3903852 , -0.41963602,  0.00896248],\n",
       "       [ 0.55018252, -0.26547537, -0.54472848],\n",
       "       [-1.56926926, -0.11018104, -0.53949252],\n",
       "       [-0.25346771, -0.67581845,  0.44042327],\n",
       "       [ 1.59237251, -0.3219625 , -0.39635618],\n",
       "       [-1.51660369,  0.2179468 ,  0.46802395]])"
      ]
     },
     "execution_count": 24,
     "metadata": {},
     "output_type": "execute_result"
    }
   ],
   "source": [
    "pcs = pca.fit_transform(data_s)\n",
    "pcs"
   ]
  },
  {
   "cell_type": "code",
   "execution_count": 25,
   "id": "3b78bc6b",
   "metadata": {},
   "outputs": [
    {
     "data": {
      "text/html": [
       "<div>\n",
       "<style scoped>\n",
       "    .dataframe tbody tr th:only-of-type {\n",
       "        vertical-align: middle;\n",
       "    }\n",
       "\n",
       "    .dataframe tbody tr th {\n",
       "        vertical-align: top;\n",
       "    }\n",
       "\n",
       "    .dataframe thead th {\n",
       "        text-align: right;\n",
       "    }\n",
       "</style>\n",
       "<table border=\"1\" class=\"dataframe\">\n",
       "  <thead>\n",
       "    <tr style=\"text-align: right;\">\n",
       "      <th></th>\n",
       "      <th>pc1</th>\n",
       "      <th>pc2</th>\n",
       "      <th>pc3</th>\n",
       "    </tr>\n",
       "  </thead>\n",
       "  <tbody>\n",
       "    <tr>\n",
       "      <th>0</th>\n",
       "      <td>2.015343</td>\n",
       "      <td>0.428549</td>\n",
       "      <td>0.192902</td>\n",
       "    </tr>\n",
       "    <tr>\n",
       "      <th>1</th>\n",
       "      <td>-1.580909</td>\n",
       "      <td>-0.007335</td>\n",
       "      <td>0.600040</td>\n",
       "    </tr>\n",
       "    <tr>\n",
       "      <th>2</th>\n",
       "      <td>1.332458</td>\n",
       "      <td>0.216530</td>\n",
       "      <td>-0.230635</td>\n",
       "    </tr>\n",
       "    <tr>\n",
       "      <th>3</th>\n",
       "      <td>0.057707</td>\n",
       "      <td>-0.168948</td>\n",
       "      <td>0.029569</td>\n",
       "    </tr>\n",
       "    <tr>\n",
       "      <th>4</th>\n",
       "      <td>-2.220954</td>\n",
       "      <td>0.246490</td>\n",
       "      <td>-0.150120</td>\n",
       "    </tr>\n",
       "    <tr>\n",
       "      <th>5</th>\n",
       "      <td>3.592299</td>\n",
       "      <td>-0.189922</td>\n",
       "      <td>0.374612</td>\n",
       "    </tr>\n",
       "    <tr>\n",
       "      <th>6</th>\n",
       "      <td>-2.057860</td>\n",
       "      <td>0.240429</td>\n",
       "      <td>0.022484</td>\n",
       "    </tr>\n",
       "    <tr>\n",
       "      <th>7</th>\n",
       "      <td>-1.237224</td>\n",
       "      <td>-0.301688</td>\n",
       "      <td>-0.179401</td>\n",
       "    </tr>\n",
       "    <tr>\n",
       "      <th>8</th>\n",
       "      <td>0.905540</td>\n",
       "      <td>1.111021</td>\n",
       "      <td>-0.096285</td>\n",
       "    </tr>\n",
       "    <tr>\n",
       "      <th>9</th>\n",
       "      <td>0.390385</td>\n",
       "      <td>-0.419636</td>\n",
       "      <td>0.008962</td>\n",
       "    </tr>\n",
       "    <tr>\n",
       "      <th>10</th>\n",
       "      <td>0.550183</td>\n",
       "      <td>-0.265475</td>\n",
       "      <td>-0.544728</td>\n",
       "    </tr>\n",
       "    <tr>\n",
       "      <th>11</th>\n",
       "      <td>-1.569269</td>\n",
       "      <td>-0.110181</td>\n",
       "      <td>-0.539493</td>\n",
       "    </tr>\n",
       "    <tr>\n",
       "      <th>12</th>\n",
       "      <td>-0.253468</td>\n",
       "      <td>-0.675818</td>\n",
       "      <td>0.440423</td>\n",
       "    </tr>\n",
       "    <tr>\n",
       "      <th>13</th>\n",
       "      <td>1.592373</td>\n",
       "      <td>-0.321963</td>\n",
       "      <td>-0.396356</td>\n",
       "    </tr>\n",
       "    <tr>\n",
       "      <th>14</th>\n",
       "      <td>-1.516604</td>\n",
       "      <td>0.217947</td>\n",
       "      <td>0.468024</td>\n",
       "    </tr>\n",
       "  </tbody>\n",
       "</table>\n",
       "</div>"
      ],
      "text/plain": [
       "         pc1       pc2       pc3\n",
       "0   2.015343  0.428549  0.192902\n",
       "1  -1.580909 -0.007335  0.600040\n",
       "2   1.332458  0.216530 -0.230635\n",
       "3   0.057707 -0.168948  0.029569\n",
       "4  -2.220954  0.246490 -0.150120\n",
       "5   3.592299 -0.189922  0.374612\n",
       "6  -2.057860  0.240429  0.022484\n",
       "7  -1.237224 -0.301688 -0.179401\n",
       "8   0.905540  1.111021 -0.096285\n",
       "9   0.390385 -0.419636  0.008962\n",
       "10  0.550183 -0.265475 -0.544728\n",
       "11 -1.569269 -0.110181 -0.539493\n",
       "12 -0.253468 -0.675818  0.440423\n",
       "13  1.592373 -0.321963 -0.396356\n",
       "14 -1.516604  0.217947  0.468024"
      ]
     },
     "execution_count": 25,
     "metadata": {},
     "output_type": "execute_result"
    }
   ],
   "source": [
    "pcs = pd.DataFrame(pcs,columns=[\"pc1\",\"pc2\",\"pc3\"])\n",
    "pcs"
   ]
  },
  {
   "cell_type": "markdown",
   "id": "a24dc2ad",
   "metadata": {},
   "source": [
    "## Eigen values and eigen vector :"
   ]
  },
  {
   "cell_type": "code",
   "execution_count": 26,
   "id": "70287b64",
   "metadata": {},
   "outputs": [
    {
     "data": {
      "text/plain": [
       "array([2.89857911, 0.18612551, 0.1295811 ])"
      ]
     },
     "execution_count": 26,
     "metadata": {},
     "output_type": "execute_result"
    }
   ],
   "source": [
    "pca.explained_variance_"
   ]
  },
  {
   "cell_type": "code",
   "execution_count": 27,
   "id": "13b3dc12",
   "metadata": {},
   "outputs": [
    {
     "data": {
      "text/plain": [
       "array([[-0.58317464,  0.57378162,  0.57504956],\n",
       "       [ 0.04823714,  0.73109696, -0.68056625],\n",
       "       [ 0.81091338,  0.36915023,  0.45403479]])"
      ]
     },
     "execution_count": 27,
     "metadata": {},
     "output_type": "execute_result"
    }
   ],
   "source": [
    "pca.components_"
   ]
  },
  {
   "cell_type": "code",
   "execution_count": 28,
   "id": "db3e87d0",
   "metadata": {},
   "outputs": [
    {
     "data": {
      "text/plain": [
       "array([0.90178017, 0.05790571, 0.04031412])"
      ]
     },
     "execution_count": 28,
     "metadata": {},
     "output_type": "execute_result"
    }
   ],
   "source": [
    "# Explained Variance Ratio:\n",
    "pca.explained_variance_ratio_"
   ]
  },
  {
   "cell_type": "code",
   "execution_count": 29,
   "id": "2ab0f21d",
   "metadata": {},
   "outputs": [
    {
     "data": {
      "text/plain": [
       "array([0.90178017, 0.95968588, 1.        ])"
      ]
     },
     "execution_count": 29,
     "metadata": {},
     "output_type": "execute_result"
    }
   ],
   "source": [
    "np.cumsum(pca.explained_variance_ratio_)"
   ]
  },
  {
   "cell_type": "code",
   "execution_count": 30,
   "id": "3e035c9d",
   "metadata": {},
   "outputs": [
    {
     "data": {
      "text/plain": [
       "array([2.89857911, 0.1295811 , 0.18612551])"
      ]
     },
     "execution_count": 30,
     "metadata": {},
     "output_type": "execute_result"
    }
   ],
   "source": [
    "eig_val"
   ]
  },
  {
   "cell_type": "markdown",
   "id": "eb00dbc6",
   "metadata": {},
   "source": [
    "## Lets Take Iris Dataset: \n",
    "### And Apply LDA (Linear Discriminant analysis)"
   ]
  },
  {
   "cell_type": "code",
   "execution_count": 31,
   "id": "23845498",
   "metadata": {},
   "outputs": [
    {
     "data": {
      "text/html": [
       "<div>\n",
       "<style scoped>\n",
       "    .dataframe tbody tr th:only-of-type {\n",
       "        vertical-align: middle;\n",
       "    }\n",
       "\n",
       "    .dataframe tbody tr th {\n",
       "        vertical-align: top;\n",
       "    }\n",
       "\n",
       "    .dataframe thead th {\n",
       "        text-align: right;\n",
       "    }\n",
       "</style>\n",
       "<table border=\"1\" class=\"dataframe\">\n",
       "  <thead>\n",
       "    <tr style=\"text-align: right;\">\n",
       "      <th></th>\n",
       "      <th>sepal_length</th>\n",
       "      <th>sepal_width</th>\n",
       "      <th>petal_length</th>\n",
       "      <th>petal_width</th>\n",
       "      <th>species</th>\n",
       "    </tr>\n",
       "  </thead>\n",
       "  <tbody>\n",
       "    <tr>\n",
       "      <th>0</th>\n",
       "      <td>5.1</td>\n",
       "      <td>3.5</td>\n",
       "      <td>1.4</td>\n",
       "      <td>0.2</td>\n",
       "      <td>setosa</td>\n",
       "    </tr>\n",
       "    <tr>\n",
       "      <th>1</th>\n",
       "      <td>4.9</td>\n",
       "      <td>3.0</td>\n",
       "      <td>1.4</td>\n",
       "      <td>0.2</td>\n",
       "      <td>setosa</td>\n",
       "    </tr>\n",
       "    <tr>\n",
       "      <th>2</th>\n",
       "      <td>4.7</td>\n",
       "      <td>3.2</td>\n",
       "      <td>1.3</td>\n",
       "      <td>0.2</td>\n",
       "      <td>setosa</td>\n",
       "    </tr>\n",
       "    <tr>\n",
       "      <th>3</th>\n",
       "      <td>4.6</td>\n",
       "      <td>3.1</td>\n",
       "      <td>1.5</td>\n",
       "      <td>0.2</td>\n",
       "      <td>setosa</td>\n",
       "    </tr>\n",
       "    <tr>\n",
       "      <th>4</th>\n",
       "      <td>5.0</td>\n",
       "      <td>3.6</td>\n",
       "      <td>1.4</td>\n",
       "      <td>0.2</td>\n",
       "      <td>setosa</td>\n",
       "    </tr>\n",
       "    <tr>\n",
       "      <th>...</th>\n",
       "      <td>...</td>\n",
       "      <td>...</td>\n",
       "      <td>...</td>\n",
       "      <td>...</td>\n",
       "      <td>...</td>\n",
       "    </tr>\n",
       "    <tr>\n",
       "      <th>145</th>\n",
       "      <td>6.7</td>\n",
       "      <td>3.0</td>\n",
       "      <td>5.2</td>\n",
       "      <td>2.3</td>\n",
       "      <td>virginica</td>\n",
       "    </tr>\n",
       "    <tr>\n",
       "      <th>146</th>\n",
       "      <td>6.3</td>\n",
       "      <td>2.5</td>\n",
       "      <td>5.0</td>\n",
       "      <td>1.9</td>\n",
       "      <td>virginica</td>\n",
       "    </tr>\n",
       "    <tr>\n",
       "      <th>147</th>\n",
       "      <td>6.5</td>\n",
       "      <td>3.0</td>\n",
       "      <td>5.2</td>\n",
       "      <td>2.0</td>\n",
       "      <td>virginica</td>\n",
       "    </tr>\n",
       "    <tr>\n",
       "      <th>148</th>\n",
       "      <td>6.2</td>\n",
       "      <td>3.4</td>\n",
       "      <td>5.4</td>\n",
       "      <td>2.3</td>\n",
       "      <td>virginica</td>\n",
       "    </tr>\n",
       "    <tr>\n",
       "      <th>149</th>\n",
       "      <td>5.9</td>\n",
       "      <td>3.0</td>\n",
       "      <td>5.1</td>\n",
       "      <td>1.8</td>\n",
       "      <td>virginica</td>\n",
       "    </tr>\n",
       "  </tbody>\n",
       "</table>\n",
       "<p>150 rows × 5 columns</p>\n",
       "</div>"
      ],
      "text/plain": [
       "     sepal_length  sepal_width  petal_length  petal_width    species\n",
       "0             5.1          3.5           1.4          0.2     setosa\n",
       "1             4.9          3.0           1.4          0.2     setosa\n",
       "2             4.7          3.2           1.3          0.2     setosa\n",
       "3             4.6          3.1           1.5          0.2     setosa\n",
       "4             5.0          3.6           1.4          0.2     setosa\n",
       "..            ...          ...           ...          ...        ...\n",
       "145           6.7          3.0           5.2          2.3  virginica\n",
       "146           6.3          2.5           5.0          1.9  virginica\n",
       "147           6.5          3.0           5.2          2.0  virginica\n",
       "148           6.2          3.4           5.4          2.3  virginica\n",
       "149           5.9          3.0           5.1          1.8  virginica\n",
       "\n",
       "[150 rows x 5 columns]"
      ]
     },
     "execution_count": 31,
     "metadata": {},
     "output_type": "execute_result"
    }
   ],
   "source": [
    "iris = sns.load_dataset(\"iris\")\n",
    "iris"
   ]
  },
  {
   "cell_type": "code",
   "execution_count": 32,
   "id": "0f085279",
   "metadata": {},
   "outputs": [
    {
     "data": {
      "text/html": [
       "<div>\n",
       "<style scoped>\n",
       "    .dataframe tbody tr th:only-of-type {\n",
       "        vertical-align: middle;\n",
       "    }\n",
       "\n",
       "    .dataframe tbody tr th {\n",
       "        vertical-align: top;\n",
       "    }\n",
       "\n",
       "    .dataframe thead th {\n",
       "        text-align: right;\n",
       "    }\n",
       "</style>\n",
       "<table border=\"1\" class=\"dataframe\">\n",
       "  <thead>\n",
       "    <tr style=\"text-align: right;\">\n",
       "      <th></th>\n",
       "      <th>sepal_length</th>\n",
       "      <th>sepal_width</th>\n",
       "      <th>petal_length</th>\n",
       "      <th>petal_width</th>\n",
       "      <th>species</th>\n",
       "    </tr>\n",
       "  </thead>\n",
       "  <tbody>\n",
       "    <tr>\n",
       "      <th>0</th>\n",
       "      <td>5.1</td>\n",
       "      <td>3.5</td>\n",
       "      <td>1.4</td>\n",
       "      <td>0.2</td>\n",
       "      <td>0</td>\n",
       "    </tr>\n",
       "    <tr>\n",
       "      <th>1</th>\n",
       "      <td>4.9</td>\n",
       "      <td>3.0</td>\n",
       "      <td>1.4</td>\n",
       "      <td>0.2</td>\n",
       "      <td>0</td>\n",
       "    </tr>\n",
       "    <tr>\n",
       "      <th>2</th>\n",
       "      <td>4.7</td>\n",
       "      <td>3.2</td>\n",
       "      <td>1.3</td>\n",
       "      <td>0.2</td>\n",
       "      <td>0</td>\n",
       "    </tr>\n",
       "    <tr>\n",
       "      <th>3</th>\n",
       "      <td>4.6</td>\n",
       "      <td>3.1</td>\n",
       "      <td>1.5</td>\n",
       "      <td>0.2</td>\n",
       "      <td>0</td>\n",
       "    </tr>\n",
       "    <tr>\n",
       "      <th>4</th>\n",
       "      <td>5.0</td>\n",
       "      <td>3.6</td>\n",
       "      <td>1.4</td>\n",
       "      <td>0.2</td>\n",
       "      <td>0</td>\n",
       "    </tr>\n",
       "    <tr>\n",
       "      <th>...</th>\n",
       "      <td>...</td>\n",
       "      <td>...</td>\n",
       "      <td>...</td>\n",
       "      <td>...</td>\n",
       "      <td>...</td>\n",
       "    </tr>\n",
       "    <tr>\n",
       "      <th>145</th>\n",
       "      <td>6.7</td>\n",
       "      <td>3.0</td>\n",
       "      <td>5.2</td>\n",
       "      <td>2.3</td>\n",
       "      <td>2</td>\n",
       "    </tr>\n",
       "    <tr>\n",
       "      <th>146</th>\n",
       "      <td>6.3</td>\n",
       "      <td>2.5</td>\n",
       "      <td>5.0</td>\n",
       "      <td>1.9</td>\n",
       "      <td>2</td>\n",
       "    </tr>\n",
       "    <tr>\n",
       "      <th>147</th>\n",
       "      <td>6.5</td>\n",
       "      <td>3.0</td>\n",
       "      <td>5.2</td>\n",
       "      <td>2.0</td>\n",
       "      <td>2</td>\n",
       "    </tr>\n",
       "    <tr>\n",
       "      <th>148</th>\n",
       "      <td>6.2</td>\n",
       "      <td>3.4</td>\n",
       "      <td>5.4</td>\n",
       "      <td>2.3</td>\n",
       "      <td>2</td>\n",
       "    </tr>\n",
       "    <tr>\n",
       "      <th>149</th>\n",
       "      <td>5.9</td>\n",
       "      <td>3.0</td>\n",
       "      <td>5.1</td>\n",
       "      <td>1.8</td>\n",
       "      <td>2</td>\n",
       "    </tr>\n",
       "  </tbody>\n",
       "</table>\n",
       "<p>150 rows × 5 columns</p>\n",
       "</div>"
      ],
      "text/plain": [
       "     sepal_length  sepal_width  petal_length  petal_width  species\n",
       "0             5.1          3.5           1.4          0.2        0\n",
       "1             4.9          3.0           1.4          0.2        0\n",
       "2             4.7          3.2           1.3          0.2        0\n",
       "3             4.6          3.1           1.5          0.2        0\n",
       "4             5.0          3.6           1.4          0.2        0\n",
       "..            ...          ...           ...          ...      ...\n",
       "145           6.7          3.0           5.2          2.3        2\n",
       "146           6.3          2.5           5.0          1.9        2\n",
       "147           6.5          3.0           5.2          2.0        2\n",
       "148           6.2          3.4           5.4          2.3        2\n",
       "149           5.9          3.0           5.1          1.8        2\n",
       "\n",
       "[150 rows x 5 columns]"
      ]
     },
     "execution_count": 32,
     "metadata": {},
     "output_type": "execute_result"
    }
   ],
   "source": [
    "le = LabelEncoder()\n",
    "iris[\"species\"] = le.fit_transform(iris[\"species\"])\n",
    "iris"
   ]
  },
  {
   "cell_type": "code",
   "execution_count": 33,
   "id": "aaa78035",
   "metadata": {},
   "outputs": [],
   "source": [
    "for i in iris.columns:\n",
    "    if i !=\"species\":\n",
    "        sc = StandardScaler()\n",
    "        iris[i] = sc.fit_transform(pd.DataFrame(iris[i]))\n",
    "        "
   ]
  },
  {
   "cell_type": "code",
   "execution_count": 34,
   "id": "e0fc1dfa",
   "metadata": {},
   "outputs": [
    {
     "data": {
      "text/html": [
       "<div>\n",
       "<style scoped>\n",
       "    .dataframe tbody tr th:only-of-type {\n",
       "        vertical-align: middle;\n",
       "    }\n",
       "\n",
       "    .dataframe tbody tr th {\n",
       "        vertical-align: top;\n",
       "    }\n",
       "\n",
       "    .dataframe thead th {\n",
       "        text-align: right;\n",
       "    }\n",
       "</style>\n",
       "<table border=\"1\" class=\"dataframe\">\n",
       "  <thead>\n",
       "    <tr style=\"text-align: right;\">\n",
       "      <th></th>\n",
       "      <th>sepal_length</th>\n",
       "      <th>sepal_width</th>\n",
       "      <th>petal_length</th>\n",
       "      <th>petal_width</th>\n",
       "      <th>species</th>\n",
       "    </tr>\n",
       "  </thead>\n",
       "  <tbody>\n",
       "    <tr>\n",
       "      <th>0</th>\n",
       "      <td>-0.900681</td>\n",
       "      <td>1.019004</td>\n",
       "      <td>-1.340227</td>\n",
       "      <td>-1.315444</td>\n",
       "      <td>0</td>\n",
       "    </tr>\n",
       "    <tr>\n",
       "      <th>1</th>\n",
       "      <td>-1.143017</td>\n",
       "      <td>-0.131979</td>\n",
       "      <td>-1.340227</td>\n",
       "      <td>-1.315444</td>\n",
       "      <td>0</td>\n",
       "    </tr>\n",
       "    <tr>\n",
       "      <th>2</th>\n",
       "      <td>-1.385353</td>\n",
       "      <td>0.328414</td>\n",
       "      <td>-1.397064</td>\n",
       "      <td>-1.315444</td>\n",
       "      <td>0</td>\n",
       "    </tr>\n",
       "    <tr>\n",
       "      <th>3</th>\n",
       "      <td>-1.506521</td>\n",
       "      <td>0.098217</td>\n",
       "      <td>-1.283389</td>\n",
       "      <td>-1.315444</td>\n",
       "      <td>0</td>\n",
       "    </tr>\n",
       "    <tr>\n",
       "      <th>4</th>\n",
       "      <td>-1.021849</td>\n",
       "      <td>1.249201</td>\n",
       "      <td>-1.340227</td>\n",
       "      <td>-1.315444</td>\n",
       "      <td>0</td>\n",
       "    </tr>\n",
       "    <tr>\n",
       "      <th>...</th>\n",
       "      <td>...</td>\n",
       "      <td>...</td>\n",
       "      <td>...</td>\n",
       "      <td>...</td>\n",
       "      <td>...</td>\n",
       "    </tr>\n",
       "    <tr>\n",
       "      <th>145</th>\n",
       "      <td>1.038005</td>\n",
       "      <td>-0.131979</td>\n",
       "      <td>0.819596</td>\n",
       "      <td>1.448832</td>\n",
       "      <td>2</td>\n",
       "    </tr>\n",
       "    <tr>\n",
       "      <th>146</th>\n",
       "      <td>0.553333</td>\n",
       "      <td>-1.282963</td>\n",
       "      <td>0.705921</td>\n",
       "      <td>0.922303</td>\n",
       "      <td>2</td>\n",
       "    </tr>\n",
       "    <tr>\n",
       "      <th>147</th>\n",
       "      <td>0.795669</td>\n",
       "      <td>-0.131979</td>\n",
       "      <td>0.819596</td>\n",
       "      <td>1.053935</td>\n",
       "      <td>2</td>\n",
       "    </tr>\n",
       "    <tr>\n",
       "      <th>148</th>\n",
       "      <td>0.432165</td>\n",
       "      <td>0.788808</td>\n",
       "      <td>0.933271</td>\n",
       "      <td>1.448832</td>\n",
       "      <td>2</td>\n",
       "    </tr>\n",
       "    <tr>\n",
       "      <th>149</th>\n",
       "      <td>0.068662</td>\n",
       "      <td>-0.131979</td>\n",
       "      <td>0.762758</td>\n",
       "      <td>0.790671</td>\n",
       "      <td>2</td>\n",
       "    </tr>\n",
       "  </tbody>\n",
       "</table>\n",
       "<p>150 rows × 5 columns</p>\n",
       "</div>"
      ],
      "text/plain": [
       "     sepal_length  sepal_width  petal_length  petal_width  species\n",
       "0       -0.900681     1.019004     -1.340227    -1.315444        0\n",
       "1       -1.143017    -0.131979     -1.340227    -1.315444        0\n",
       "2       -1.385353     0.328414     -1.397064    -1.315444        0\n",
       "3       -1.506521     0.098217     -1.283389    -1.315444        0\n",
       "4       -1.021849     1.249201     -1.340227    -1.315444        0\n",
       "..            ...          ...           ...          ...      ...\n",
       "145      1.038005    -0.131979      0.819596     1.448832        2\n",
       "146      0.553333    -1.282963      0.705921     0.922303        2\n",
       "147      0.795669    -0.131979      0.819596     1.053935        2\n",
       "148      0.432165     0.788808      0.933271     1.448832        2\n",
       "149      0.068662    -0.131979      0.762758     0.790671        2\n",
       "\n",
       "[150 rows x 5 columns]"
      ]
     },
     "execution_count": 34,
     "metadata": {},
     "output_type": "execute_result"
    }
   ],
   "source": [
    "iris"
   ]
  },
  {
   "cell_type": "code",
   "execution_count": 35,
   "id": "7286c455",
   "metadata": {},
   "outputs": [],
   "source": [
    "from sklearn.discriminant_analysis import LinearDiscriminantAnalysis"
   ]
  },
  {
   "cell_type": "code",
   "execution_count": 36,
   "id": "ec29e32e",
   "metadata": {},
   "outputs": [],
   "source": [
    "LDA = LinearDiscriminantAnalysis(solver=\"eigen\")"
   ]
  },
  {
   "cell_type": "code",
   "execution_count": 37,
   "id": "d997645b",
   "metadata": {},
   "outputs": [],
   "source": [
    "lds = LDA.fit_transform(X=iris.iloc[:,:4],y=iris[\"species\"])"
   ]
  },
  {
   "cell_type": "code",
   "execution_count": 38,
   "id": "0c0fd852",
   "metadata": {},
   "outputs": [],
   "source": [
    "lds = pd.DataFrame(lds,columns=[\"Ld1\",\"Ld2\"])"
   ]
  },
  {
   "cell_type": "code",
   "execution_count": 39,
   "id": "465ef16b",
   "metadata": {},
   "outputs": [
    {
     "data": {
      "text/html": [
       "<div>\n",
       "<style scoped>\n",
       "    .dataframe tbody tr th:only-of-type {\n",
       "        vertical-align: middle;\n",
       "    }\n",
       "\n",
       "    .dataframe tbody tr th {\n",
       "        vertical-align: top;\n",
       "    }\n",
       "\n",
       "    .dataframe thead th {\n",
       "        text-align: right;\n",
       "    }\n",
       "</style>\n",
       "<table border=\"1\" class=\"dataframe\">\n",
       "  <thead>\n",
       "    <tr style=\"text-align: right;\">\n",
       "      <th></th>\n",
       "      <th>Ld1</th>\n",
       "      <th>Ld2</th>\n",
       "    </tr>\n",
       "  </thead>\n",
       "  <tbody>\n",
       "    <tr>\n",
       "      <th>0</th>\n",
       "      <td>8.143648</td>\n",
       "      <td>0.303471</td>\n",
       "    </tr>\n",
       "    <tr>\n",
       "      <th>1</th>\n",
       "      <td>7.201062</td>\n",
       "      <td>-0.794647</td>\n",
       "    </tr>\n",
       "    <tr>\n",
       "      <th>2</th>\n",
       "      <td>7.565869</td>\n",
       "      <td>-0.268079</td>\n",
       "    </tr>\n",
       "    <tr>\n",
       "      <th>3</th>\n",
       "      <td>6.882372</td>\n",
       "      <td>-0.677440</td>\n",
       "    </tr>\n",
       "    <tr>\n",
       "      <th>4</th>\n",
       "      <td>8.214873</td>\n",
       "      <td>0.519686</td>\n",
       "    </tr>\n",
       "    <tr>\n",
       "      <th>...</th>\n",
       "      <td>...</td>\n",
       "      <td>...</td>\n",
       "    </tr>\n",
       "    <tr>\n",
       "      <th>145</th>\n",
       "      <td>-5.702315</td>\n",
       "      <td>1.694750</td>\n",
       "    </tr>\n",
       "    <tr>\n",
       "      <th>146</th>\n",
       "      <td>-5.232150</td>\n",
       "      <td>-0.367165</td>\n",
       "    </tr>\n",
       "    <tr>\n",
       "      <th>147</th>\n",
       "      <td>-5.018176</td>\n",
       "      <td>0.829477</td>\n",
       "    </tr>\n",
       "    <tr>\n",
       "      <th>148</th>\n",
       "      <td>-5.945905</td>\n",
       "      <td>2.368899</td>\n",
       "    </tr>\n",
       "    <tr>\n",
       "      <th>149</th>\n",
       "      <td>-4.730700</td>\n",
       "      <td>0.335405</td>\n",
       "    </tr>\n",
       "  </tbody>\n",
       "</table>\n",
       "<p>150 rows × 2 columns</p>\n",
       "</div>"
      ],
      "text/plain": [
       "          Ld1       Ld2\n",
       "0    8.143648  0.303471\n",
       "1    7.201062 -0.794647\n",
       "2    7.565869 -0.268079\n",
       "3    6.882372 -0.677440\n",
       "4    8.214873  0.519686\n",
       "..        ...       ...\n",
       "145 -5.702315  1.694750\n",
       "146 -5.232150 -0.367165\n",
       "147 -5.018176  0.829477\n",
       "148 -5.945905  2.368899\n",
       "149 -4.730700  0.335405\n",
       "\n",
       "[150 rows x 2 columns]"
      ]
     },
     "execution_count": 39,
     "metadata": {},
     "output_type": "execute_result"
    }
   ],
   "source": [
    "lds"
   ]
  },
  {
   "cell_type": "code",
   "execution_count": 40,
   "id": "23631091",
   "metadata": {},
   "outputs": [
    {
     "data": {
      "text/plain": [
       "array([0.9912126, 0.0087874])"
      ]
     },
     "execution_count": 40,
     "metadata": {},
     "output_type": "execute_result"
    }
   ],
   "source": [
    "LDA.explained_variance_ratio_"
   ]
  },
  {
   "cell_type": "code",
   "execution_count": 41,
   "id": "b997f83b",
   "metadata": {},
   "outputs": [
    {
     "data": {
      "text/plain": [
       "array([[ 0.69143572,  0.02009348, -2.64442999, -0.25493982],\n",
       "       [ 0.67335953,  0.94983812,  0.98873139, -0.63854513],\n",
       "       [-3.91213972, -1.65627234,  4.30903908, -3.17779997],\n",
       "       [-2.15676253,  2.17880821, -1.67074795,  3.07659459]])"
      ]
     },
     "execution_count": 41,
     "metadata": {},
     "output_type": "execute_result"
    }
   ],
   "source": [
    "LDA.scalings_"
   ]
  },
  {
   "cell_type": "markdown",
   "id": "f3609a1e",
   "metadata": {},
   "source": [
    "# Thank You"
   ]
  }
 ],
 "metadata": {
  "kernelspec": {
   "display_name": "Python 3 (ipykernel)",
   "language": "python",
   "name": "python3"
  },
  "language_info": {
   "codemirror_mode": {
    "name": "ipython",
    "version": 3
   },
   "file_extension": ".py",
   "mimetype": "text/x-python",
   "name": "python",
   "nbconvert_exporter": "python",
   "pygments_lexer": "ipython3",
   "version": "3.11.4"
  }
 },
 "nbformat": 4,
 "nbformat_minor": 5
}
