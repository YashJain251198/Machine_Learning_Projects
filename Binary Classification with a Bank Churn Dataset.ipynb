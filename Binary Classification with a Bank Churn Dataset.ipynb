{
 "cells": [
  {
   "cell_type": "code",
   "execution_count": 1,
   "id": "9bed492f",
   "metadata": {},
   "outputs": [],
   "source": [
    "# import Libraries.\n",
    "import numpy as np\n",
    "import pandas as pd\n",
    "import matplotlib.pyplot as plt\n",
    "import seaborn as sns\n",
    "import warnings\n",
    "from scipy.stats import skew,kurtosis\n",
    "warnings.filterwarnings('ignore')\n",
    "from sklearn.model_selection import train_test_split\n",
    "from sklearn.linear_model import LogisticRegression\n",
    "from sklearn.metrics import accuracy_score,confusion_matrix,classification_report\n",
    "from sklearn.model_selection import StratifiedKFold\n",
    "\n",
    "from sklearn.metrics import roc_curve,roc_auc_score\n",
    "from sklearn import metrics\n",
    "\n",
    "from sklearn.tree import DecisionTreeClassifier\n",
    "from sklearn.ensemble import RandomForestClassifier,GradientBoostingClassifier,AdaBoostClassifier\n",
    "from xgboost import XGBClassifier\n",
    "import pickle"
   ]
  },
  {
   "cell_type": "code",
   "execution_count": 2,
   "id": "d5aeea8f",
   "metadata": {},
   "outputs": [],
   "source": [
    "train = pd.read_csv(\"train.csv\")\n",
    "test = pd.read_csv(\"test.csv\")"
   ]
  },
  {
   "cell_type": "code",
   "execution_count": 3,
   "id": "0b2f87af",
   "metadata": {},
   "outputs": [
    {
     "data": {
      "text/html": [
       "<div>\n",
       "<style scoped>\n",
       "    .dataframe tbody tr th:only-of-type {\n",
       "        vertical-align: middle;\n",
       "    }\n",
       "\n",
       "    .dataframe tbody tr th {\n",
       "        vertical-align: top;\n",
       "    }\n",
       "\n",
       "    .dataframe thead th {\n",
       "        text-align: right;\n",
       "    }\n",
       "</style>\n",
       "<table border=\"1\" class=\"dataframe\">\n",
       "  <thead>\n",
       "    <tr style=\"text-align: right;\">\n",
       "      <th></th>\n",
       "      <th>id</th>\n",
       "      <th>CustomerId</th>\n",
       "      <th>Surname</th>\n",
       "      <th>CreditScore</th>\n",
       "      <th>Geography</th>\n",
       "      <th>Gender</th>\n",
       "      <th>Age</th>\n",
       "      <th>Tenure</th>\n",
       "      <th>Balance</th>\n",
       "      <th>NumOfProducts</th>\n",
       "      <th>HasCrCard</th>\n",
       "      <th>IsActiveMember</th>\n",
       "      <th>EstimatedSalary</th>\n",
       "      <th>Exited</th>\n",
       "    </tr>\n",
       "  </thead>\n",
       "  <tbody>\n",
       "    <tr>\n",
       "      <th>0</th>\n",
       "      <td>0</td>\n",
       "      <td>15674932</td>\n",
       "      <td>Okwudilichukwu</td>\n",
       "      <td>668</td>\n",
       "      <td>France</td>\n",
       "      <td>Male</td>\n",
       "      <td>33.0</td>\n",
       "      <td>3</td>\n",
       "      <td>0.00</td>\n",
       "      <td>2</td>\n",
       "      <td>1.0</td>\n",
       "      <td>0.0</td>\n",
       "      <td>181449.97</td>\n",
       "      <td>0</td>\n",
       "    </tr>\n",
       "    <tr>\n",
       "      <th>1</th>\n",
       "      <td>1</td>\n",
       "      <td>15749177</td>\n",
       "      <td>Okwudiliolisa</td>\n",
       "      <td>627</td>\n",
       "      <td>France</td>\n",
       "      <td>Male</td>\n",
       "      <td>33.0</td>\n",
       "      <td>1</td>\n",
       "      <td>0.00</td>\n",
       "      <td>2</td>\n",
       "      <td>1.0</td>\n",
       "      <td>1.0</td>\n",
       "      <td>49503.50</td>\n",
       "      <td>0</td>\n",
       "    </tr>\n",
       "    <tr>\n",
       "      <th>2</th>\n",
       "      <td>2</td>\n",
       "      <td>15694510</td>\n",
       "      <td>Hsueh</td>\n",
       "      <td>678</td>\n",
       "      <td>France</td>\n",
       "      <td>Male</td>\n",
       "      <td>40.0</td>\n",
       "      <td>10</td>\n",
       "      <td>0.00</td>\n",
       "      <td>2</td>\n",
       "      <td>1.0</td>\n",
       "      <td>0.0</td>\n",
       "      <td>184866.69</td>\n",
       "      <td>0</td>\n",
       "    </tr>\n",
       "    <tr>\n",
       "      <th>3</th>\n",
       "      <td>3</td>\n",
       "      <td>15741417</td>\n",
       "      <td>Kao</td>\n",
       "      <td>581</td>\n",
       "      <td>France</td>\n",
       "      <td>Male</td>\n",
       "      <td>34.0</td>\n",
       "      <td>2</td>\n",
       "      <td>148882.54</td>\n",
       "      <td>1</td>\n",
       "      <td>1.0</td>\n",
       "      <td>1.0</td>\n",
       "      <td>84560.88</td>\n",
       "      <td>0</td>\n",
       "    </tr>\n",
       "    <tr>\n",
       "      <th>4</th>\n",
       "      <td>4</td>\n",
       "      <td>15766172</td>\n",
       "      <td>Chiemenam</td>\n",
       "      <td>716</td>\n",
       "      <td>Spain</td>\n",
       "      <td>Male</td>\n",
       "      <td>33.0</td>\n",
       "      <td>5</td>\n",
       "      <td>0.00</td>\n",
       "      <td>2</td>\n",
       "      <td>1.0</td>\n",
       "      <td>1.0</td>\n",
       "      <td>15068.83</td>\n",
       "      <td>0</td>\n",
       "    </tr>\n",
       "  </tbody>\n",
       "</table>\n",
       "</div>"
      ],
      "text/plain": [
       "   id  CustomerId         Surname  CreditScore Geography Gender   Age  Tenure  \\\n",
       "0   0    15674932  Okwudilichukwu          668    France   Male  33.0       3   \n",
       "1   1    15749177   Okwudiliolisa          627    France   Male  33.0       1   \n",
       "2   2    15694510           Hsueh          678    France   Male  40.0      10   \n",
       "3   3    15741417             Kao          581    France   Male  34.0       2   \n",
       "4   4    15766172       Chiemenam          716     Spain   Male  33.0       5   \n",
       "\n",
       "     Balance  NumOfProducts  HasCrCard  IsActiveMember  EstimatedSalary  \\\n",
       "0       0.00              2        1.0             0.0        181449.97   \n",
       "1       0.00              2        1.0             1.0         49503.50   \n",
       "2       0.00              2        1.0             0.0        184866.69   \n",
       "3  148882.54              1        1.0             1.0         84560.88   \n",
       "4       0.00              2        1.0             1.0         15068.83   \n",
       "\n",
       "   Exited  \n",
       "0       0  \n",
       "1       0  \n",
       "2       0  \n",
       "3       0  \n",
       "4       0  "
      ]
     },
     "execution_count": 3,
     "metadata": {},
     "output_type": "execute_result"
    }
   ],
   "source": [
    "train.head()"
   ]
  },
  {
   "cell_type": "code",
   "execution_count": 4,
   "id": "ac32530e",
   "metadata": {},
   "outputs": [
    {
     "data": {
      "text/html": [
       "<div>\n",
       "<style scoped>\n",
       "    .dataframe tbody tr th:only-of-type {\n",
       "        vertical-align: middle;\n",
       "    }\n",
       "\n",
       "    .dataframe tbody tr th {\n",
       "        vertical-align: top;\n",
       "    }\n",
       "\n",
       "    .dataframe thead th {\n",
       "        text-align: right;\n",
       "    }\n",
       "</style>\n",
       "<table border=\"1\" class=\"dataframe\">\n",
       "  <thead>\n",
       "    <tr style=\"text-align: right;\">\n",
       "      <th></th>\n",
       "      <th>id</th>\n",
       "      <th>CustomerId</th>\n",
       "      <th>Surname</th>\n",
       "      <th>CreditScore</th>\n",
       "      <th>Geography</th>\n",
       "      <th>Gender</th>\n",
       "      <th>Age</th>\n",
       "      <th>Tenure</th>\n",
       "      <th>Balance</th>\n",
       "      <th>NumOfProducts</th>\n",
       "      <th>HasCrCard</th>\n",
       "      <th>IsActiveMember</th>\n",
       "      <th>EstimatedSalary</th>\n",
       "    </tr>\n",
       "  </thead>\n",
       "  <tbody>\n",
       "    <tr>\n",
       "      <th>0</th>\n",
       "      <td>165034</td>\n",
       "      <td>15773898</td>\n",
       "      <td>Lucchese</td>\n",
       "      <td>586</td>\n",
       "      <td>France</td>\n",
       "      <td>Female</td>\n",
       "      <td>23.0</td>\n",
       "      <td>2</td>\n",
       "      <td>0.00</td>\n",
       "      <td>2</td>\n",
       "      <td>0.0</td>\n",
       "      <td>1.0</td>\n",
       "      <td>160976.75</td>\n",
       "    </tr>\n",
       "    <tr>\n",
       "      <th>1</th>\n",
       "      <td>165035</td>\n",
       "      <td>15782418</td>\n",
       "      <td>Nott</td>\n",
       "      <td>683</td>\n",
       "      <td>France</td>\n",
       "      <td>Female</td>\n",
       "      <td>46.0</td>\n",
       "      <td>2</td>\n",
       "      <td>0.00</td>\n",
       "      <td>1</td>\n",
       "      <td>1.0</td>\n",
       "      <td>0.0</td>\n",
       "      <td>72549.27</td>\n",
       "    </tr>\n",
       "    <tr>\n",
       "      <th>2</th>\n",
       "      <td>165036</td>\n",
       "      <td>15807120</td>\n",
       "      <td>K?</td>\n",
       "      <td>656</td>\n",
       "      <td>France</td>\n",
       "      <td>Female</td>\n",
       "      <td>34.0</td>\n",
       "      <td>7</td>\n",
       "      <td>0.00</td>\n",
       "      <td>2</td>\n",
       "      <td>1.0</td>\n",
       "      <td>0.0</td>\n",
       "      <td>138882.09</td>\n",
       "    </tr>\n",
       "    <tr>\n",
       "      <th>3</th>\n",
       "      <td>165037</td>\n",
       "      <td>15808905</td>\n",
       "      <td>O'Donnell</td>\n",
       "      <td>681</td>\n",
       "      <td>France</td>\n",
       "      <td>Male</td>\n",
       "      <td>36.0</td>\n",
       "      <td>8</td>\n",
       "      <td>0.00</td>\n",
       "      <td>1</td>\n",
       "      <td>1.0</td>\n",
       "      <td>0.0</td>\n",
       "      <td>113931.57</td>\n",
       "    </tr>\n",
       "    <tr>\n",
       "      <th>4</th>\n",
       "      <td>165038</td>\n",
       "      <td>15607314</td>\n",
       "      <td>Higgins</td>\n",
       "      <td>752</td>\n",
       "      <td>Germany</td>\n",
       "      <td>Male</td>\n",
       "      <td>38.0</td>\n",
       "      <td>10</td>\n",
       "      <td>121263.62</td>\n",
       "      <td>1</td>\n",
       "      <td>1.0</td>\n",
       "      <td>0.0</td>\n",
       "      <td>139431.00</td>\n",
       "    </tr>\n",
       "  </tbody>\n",
       "</table>\n",
       "</div>"
      ],
      "text/plain": [
       "       id  CustomerId    Surname  CreditScore Geography  Gender   Age  Tenure  \\\n",
       "0  165034    15773898   Lucchese          586    France  Female  23.0       2   \n",
       "1  165035    15782418       Nott          683    France  Female  46.0       2   \n",
       "2  165036    15807120         K?          656    France  Female  34.0       7   \n",
       "3  165037    15808905  O'Donnell          681    France    Male  36.0       8   \n",
       "4  165038    15607314    Higgins          752   Germany    Male  38.0      10   \n",
       "\n",
       "     Balance  NumOfProducts  HasCrCard  IsActiveMember  EstimatedSalary  \n",
       "0       0.00              2        0.0             1.0        160976.75  \n",
       "1       0.00              1        1.0             0.0         72549.27  \n",
       "2       0.00              2        1.0             0.0        138882.09  \n",
       "3       0.00              1        1.0             0.0        113931.57  \n",
       "4  121263.62              1        1.0             0.0        139431.00  "
      ]
     },
     "execution_count": 4,
     "metadata": {},
     "output_type": "execute_result"
    }
   ],
   "source": [
    "test.head()"
   ]
  },
  {
   "cell_type": "code",
   "execution_count": 5,
   "id": "6823eb03",
   "metadata": {},
   "outputs": [
    {
     "data": {
      "text/plain": [
       "(165034, 14)"
      ]
     },
     "execution_count": 5,
     "metadata": {},
     "output_type": "execute_result"
    }
   ],
   "source": [
    "# Shape of Train Dataset\n",
    "train.shape"
   ]
  },
  {
   "cell_type": "code",
   "execution_count": 6,
   "id": "add6c0a5",
   "metadata": {},
   "outputs": [
    {
     "data": {
      "text/plain": [
       "(110023, 13)"
      ]
     },
     "execution_count": 6,
     "metadata": {},
     "output_type": "execute_result"
    }
   ],
   "source": [
    "# # Shape of Test Dataset\n",
    "test.shape"
   ]
  },
  {
   "cell_type": "markdown",
   "id": "fa2cac1b",
   "metadata": {},
   "source": [
    "# Combine Datasets:"
   ]
  },
  {
   "cell_type": "code",
   "execution_count": 7,
   "id": "95b6562c",
   "metadata": {},
   "outputs": [
    {
     "data": {
      "text/html": [
       "<div>\n",
       "<style scoped>\n",
       "    .dataframe tbody tr th:only-of-type {\n",
       "        vertical-align: middle;\n",
       "    }\n",
       "\n",
       "    .dataframe tbody tr th {\n",
       "        vertical-align: top;\n",
       "    }\n",
       "\n",
       "    .dataframe thead th {\n",
       "        text-align: right;\n",
       "    }\n",
       "</style>\n",
       "<table border=\"1\" class=\"dataframe\">\n",
       "  <thead>\n",
       "    <tr style=\"text-align: right;\">\n",
       "      <th></th>\n",
       "      <th>id</th>\n",
       "      <th>CustomerId</th>\n",
       "      <th>Surname</th>\n",
       "      <th>CreditScore</th>\n",
       "      <th>Geography</th>\n",
       "      <th>Gender</th>\n",
       "      <th>Age</th>\n",
       "      <th>Tenure</th>\n",
       "      <th>Balance</th>\n",
       "      <th>NumOfProducts</th>\n",
       "      <th>HasCrCard</th>\n",
       "      <th>IsActiveMember</th>\n",
       "      <th>EstimatedSalary</th>\n",
       "      <th>Exited</th>\n",
       "    </tr>\n",
       "  </thead>\n",
       "  <tbody>\n",
       "    <tr>\n",
       "      <th>0</th>\n",
       "      <td>0</td>\n",
       "      <td>15674932</td>\n",
       "      <td>Okwudilichukwu</td>\n",
       "      <td>668</td>\n",
       "      <td>France</td>\n",
       "      <td>Male</td>\n",
       "      <td>33.0</td>\n",
       "      <td>3</td>\n",
       "      <td>0.00</td>\n",
       "      <td>2</td>\n",
       "      <td>1.0</td>\n",
       "      <td>0.0</td>\n",
       "      <td>181449.97</td>\n",
       "      <td>0.0</td>\n",
       "    </tr>\n",
       "    <tr>\n",
       "      <th>1</th>\n",
       "      <td>1</td>\n",
       "      <td>15749177</td>\n",
       "      <td>Okwudiliolisa</td>\n",
       "      <td>627</td>\n",
       "      <td>France</td>\n",
       "      <td>Male</td>\n",
       "      <td>33.0</td>\n",
       "      <td>1</td>\n",
       "      <td>0.00</td>\n",
       "      <td>2</td>\n",
       "      <td>1.0</td>\n",
       "      <td>1.0</td>\n",
       "      <td>49503.50</td>\n",
       "      <td>0.0</td>\n",
       "    </tr>\n",
       "    <tr>\n",
       "      <th>2</th>\n",
       "      <td>2</td>\n",
       "      <td>15694510</td>\n",
       "      <td>Hsueh</td>\n",
       "      <td>678</td>\n",
       "      <td>France</td>\n",
       "      <td>Male</td>\n",
       "      <td>40.0</td>\n",
       "      <td>10</td>\n",
       "      <td>0.00</td>\n",
       "      <td>2</td>\n",
       "      <td>1.0</td>\n",
       "      <td>0.0</td>\n",
       "      <td>184866.69</td>\n",
       "      <td>0.0</td>\n",
       "    </tr>\n",
       "    <tr>\n",
       "      <th>3</th>\n",
       "      <td>3</td>\n",
       "      <td>15741417</td>\n",
       "      <td>Kao</td>\n",
       "      <td>581</td>\n",
       "      <td>France</td>\n",
       "      <td>Male</td>\n",
       "      <td>34.0</td>\n",
       "      <td>2</td>\n",
       "      <td>148882.54</td>\n",
       "      <td>1</td>\n",
       "      <td>1.0</td>\n",
       "      <td>1.0</td>\n",
       "      <td>84560.88</td>\n",
       "      <td>0.0</td>\n",
       "    </tr>\n",
       "  </tbody>\n",
       "</table>\n",
       "</div>"
      ],
      "text/plain": [
       "   id  CustomerId         Surname  CreditScore Geography Gender   Age  Tenure  \\\n",
       "0   0    15674932  Okwudilichukwu          668    France   Male  33.0       3   \n",
       "1   1    15749177   Okwudiliolisa          627    France   Male  33.0       1   \n",
       "2   2    15694510           Hsueh          678    France   Male  40.0      10   \n",
       "3   3    15741417             Kao          581    France   Male  34.0       2   \n",
       "\n",
       "     Balance  NumOfProducts  HasCrCard  IsActiveMember  EstimatedSalary  \\\n",
       "0       0.00              2        1.0             0.0        181449.97   \n",
       "1       0.00              2        1.0             1.0         49503.50   \n",
       "2       0.00              2        1.0             0.0        184866.69   \n",
       "3  148882.54              1        1.0             1.0         84560.88   \n",
       "\n",
       "   Exited  \n",
       "0     0.0  \n",
       "1     0.0  \n",
       "2     0.0  \n",
       "3     0.0  "
      ]
     },
     "execution_count": 7,
     "metadata": {},
     "output_type": "execute_result"
    }
   ],
   "source": [
    "combined = pd.concat([train,test],ignore_index=True)\n",
    "combined.head(4)"
   ]
  },
  {
   "cell_type": "code",
   "execution_count": 8,
   "id": "eb34769a",
   "metadata": {},
   "outputs": [
    {
     "data": {
      "text/plain": [
       "(275057, 14)"
      ]
     },
     "execution_count": 8,
     "metadata": {},
     "output_type": "execute_result"
    }
   ],
   "source": [
    "# Shape of Combined Dataset :\n",
    "combined.shape"
   ]
  },
  {
   "cell_type": "code",
   "execution_count": 9,
   "id": "c075fe09",
   "metadata": {},
   "outputs": [
    {
     "name": "stdout",
     "output_type": "stream",
     "text": [
      "<class 'pandas.core.frame.DataFrame'>\n",
      "RangeIndex: 275057 entries, 0 to 275056\n",
      "Data columns (total 14 columns):\n",
      " #   Column           Non-Null Count   Dtype  \n",
      "---  ------           --------------   -----  \n",
      " 0   id               275057 non-null  int64  \n",
      " 1   CustomerId       275057 non-null  int64  \n",
      " 2   Surname          275057 non-null  object \n",
      " 3   CreditScore      275057 non-null  int64  \n",
      " 4   Geography        275057 non-null  object \n",
      " 5   Gender           275057 non-null  object \n",
      " 6   Age              275057 non-null  float64\n",
      " 7   Tenure           275057 non-null  int64  \n",
      " 8   Balance          275057 non-null  float64\n",
      " 9   NumOfProducts    275057 non-null  int64  \n",
      " 10  HasCrCard        275057 non-null  float64\n",
      " 11  IsActiveMember   275057 non-null  float64\n",
      " 12  EstimatedSalary  275057 non-null  float64\n",
      " 13  Exited           165034 non-null  float64\n",
      "dtypes: float64(6), int64(5), object(3)\n",
      "memory usage: 29.4+ MB\n"
     ]
    }
   ],
   "source": [
    "# See Datatypes of Features Using Info Function:\n",
    "combined.info()"
   ]
  },
  {
   "cell_type": "code",
   "execution_count": 10,
   "id": "448729f5",
   "metadata": {},
   "outputs": [
    {
     "data": {
      "text/html": [
       "<div>\n",
       "<style scoped>\n",
       "    .dataframe tbody tr th:only-of-type {\n",
       "        vertical-align: middle;\n",
       "    }\n",
       "\n",
       "    .dataframe tbody tr th {\n",
       "        vertical-align: top;\n",
       "    }\n",
       "\n",
       "    .dataframe thead th {\n",
       "        text-align: right;\n",
       "    }\n",
       "</style>\n",
       "<table border=\"1\" class=\"dataframe\">\n",
       "  <thead>\n",
       "    <tr style=\"text-align: right;\">\n",
       "      <th></th>\n",
       "      <th>count</th>\n",
       "      <th>mean</th>\n",
       "      <th>std</th>\n",
       "      <th>min</th>\n",
       "      <th>25%</th>\n",
       "      <th>50%</th>\n",
       "      <th>75%</th>\n",
       "      <th>max</th>\n",
       "    </tr>\n",
       "  </thead>\n",
       "  <tbody>\n",
       "    <tr>\n",
       "      <th>id</th>\n",
       "      <td>275057.0</td>\n",
       "      <td>1.375280e+05</td>\n",
       "      <td>79402.260834</td>\n",
       "      <td>0.00</td>\n",
       "      <td>68764.0</td>\n",
       "      <td>137528.00</td>\n",
       "      <td>206292.00</td>\n",
       "      <td>275056.00</td>\n",
       "    </tr>\n",
       "    <tr>\n",
       "      <th>CustomerId</th>\n",
       "      <td>275057.0</td>\n",
       "      <td>1.569204e+07</td>\n",
       "      <td>71512.708935</td>\n",
       "      <td>15565701.00</td>\n",
       "      <td>15632999.0</td>\n",
       "      <td>15690169.00</td>\n",
       "      <td>15756875.00</td>\n",
       "      <td>15815690.00</td>\n",
       "    </tr>\n",
       "    <tr>\n",
       "      <th>CreditScore</th>\n",
       "      <td>275057.0</td>\n",
       "      <td>6.564849e+02</td>\n",
       "      <td>80.188100</td>\n",
       "      <td>350.00</td>\n",
       "      <td>597.0</td>\n",
       "      <td>659.00</td>\n",
       "      <td>710.00</td>\n",
       "      <td>850.00</td>\n",
       "    </tr>\n",
       "    <tr>\n",
       "      <th>Age</th>\n",
       "      <td>275057.0</td>\n",
       "      <td>3.812441e+01</td>\n",
       "      <td>8.864927</td>\n",
       "      <td>18.00</td>\n",
       "      <td>32.0</td>\n",
       "      <td>37.00</td>\n",
       "      <td>42.00</td>\n",
       "      <td>92.00</td>\n",
       "    </tr>\n",
       "    <tr>\n",
       "      <th>Tenure</th>\n",
       "      <td>275057.0</td>\n",
       "      <td>5.010867e+00</td>\n",
       "      <td>2.806173</td>\n",
       "      <td>0.00</td>\n",
       "      <td>3.0</td>\n",
       "      <td>5.00</td>\n",
       "      <td>7.00</td>\n",
       "      <td>10.00</td>\n",
       "    </tr>\n",
       "    <tr>\n",
       "      <th>Balance</th>\n",
       "      <td>275057.0</td>\n",
       "      <td>5.542030e+04</td>\n",
       "      <td>62805.933171</td>\n",
       "      <td>0.00</td>\n",
       "      <td>0.0</td>\n",
       "      <td>0.00</td>\n",
       "      <td>120037.96</td>\n",
       "      <td>250898.09</td>\n",
       "    </tr>\n",
       "    <tr>\n",
       "      <th>NumOfProducts</th>\n",
       "      <td>275057.0</td>\n",
       "      <td>1.554002e+00</td>\n",
       "      <td>0.546178</td>\n",
       "      <td>1.00</td>\n",
       "      <td>1.0</td>\n",
       "      <td>2.00</td>\n",
       "      <td>2.00</td>\n",
       "      <td>4.00</td>\n",
       "    </tr>\n",
       "    <tr>\n",
       "      <th>HasCrCard</th>\n",
       "      <td>275057.0</td>\n",
       "      <td>7.535893e-01</td>\n",
       "      <td>0.430921</td>\n",
       "      <td>0.00</td>\n",
       "      <td>1.0</td>\n",
       "      <td>1.00</td>\n",
       "      <td>1.00</td>\n",
       "      <td>1.00</td>\n",
       "    </tr>\n",
       "    <tr>\n",
       "      <th>IsActiveMember</th>\n",
       "      <td>275057.0</td>\n",
       "      <td>4.967552e-01</td>\n",
       "      <td>0.499990</td>\n",
       "      <td>0.00</td>\n",
       "      <td>0.0</td>\n",
       "      <td>0.00</td>\n",
       "      <td>1.00</td>\n",
       "      <td>1.00</td>\n",
       "    </tr>\n",
       "    <tr>\n",
       "      <th>EstimatedSalary</th>\n",
       "      <td>275057.0</td>\n",
       "      <td>1.124710e+05</td>\n",
       "      <td>50286.608747</td>\n",
       "      <td>11.58</td>\n",
       "      <td>74580.8</td>\n",
       "      <td>117848.09</td>\n",
       "      <td>154871.13</td>\n",
       "      <td>199992.48</td>\n",
       "    </tr>\n",
       "    <tr>\n",
       "      <th>Exited</th>\n",
       "      <td>165034.0</td>\n",
       "      <td>2.115988e-01</td>\n",
       "      <td>0.408443</td>\n",
       "      <td>0.00</td>\n",
       "      <td>0.0</td>\n",
       "      <td>0.00</td>\n",
       "      <td>0.00</td>\n",
       "      <td>1.00</td>\n",
       "    </tr>\n",
       "  </tbody>\n",
       "</table>\n",
       "</div>"
      ],
      "text/plain": [
       "                    count          mean           std          min  \\\n",
       "id               275057.0  1.375280e+05  79402.260834         0.00   \n",
       "CustomerId       275057.0  1.569204e+07  71512.708935  15565701.00   \n",
       "CreditScore      275057.0  6.564849e+02     80.188100       350.00   \n",
       "Age              275057.0  3.812441e+01      8.864927        18.00   \n",
       "Tenure           275057.0  5.010867e+00      2.806173         0.00   \n",
       "Balance          275057.0  5.542030e+04  62805.933171         0.00   \n",
       "NumOfProducts    275057.0  1.554002e+00      0.546178         1.00   \n",
       "HasCrCard        275057.0  7.535893e-01      0.430921         0.00   \n",
       "IsActiveMember   275057.0  4.967552e-01      0.499990         0.00   \n",
       "EstimatedSalary  275057.0  1.124710e+05  50286.608747        11.58   \n",
       "Exited           165034.0  2.115988e-01      0.408443         0.00   \n",
       "\n",
       "                        25%          50%          75%          max  \n",
       "id                  68764.0    137528.00    206292.00    275056.00  \n",
       "CustomerId       15632999.0  15690169.00  15756875.00  15815690.00  \n",
       "CreditScore           597.0       659.00       710.00       850.00  \n",
       "Age                    32.0        37.00        42.00        92.00  \n",
       "Tenure                  3.0         5.00         7.00        10.00  \n",
       "Balance                 0.0         0.00    120037.96    250898.09  \n",
       "NumOfProducts           1.0         2.00         2.00         4.00  \n",
       "HasCrCard               1.0         1.00         1.00         1.00  \n",
       "IsActiveMember          0.0         0.00         1.00         1.00  \n",
       "EstimatedSalary     74580.8    117848.09    154871.13    199992.48  \n",
       "Exited                  0.0         0.00         0.00         1.00  "
      ]
     },
     "execution_count": 10,
     "metadata": {},
     "output_type": "execute_result"
    }
   ],
   "source": [
    "# (.describe) is used to see description of data\n",
    "combined.describe().T"
   ]
  },
  {
   "cell_type": "code",
   "execution_count": 11,
   "id": "63fe7f99",
   "metadata": {},
   "outputs": [
    {
     "data": {
      "text/plain": [
       "0    0.788401\n",
       "1    0.211599\n",
       "Name: Exited, dtype: float64"
      ]
     },
     "execution_count": 11,
     "metadata": {},
     "output_type": "execute_result"
    }
   ],
   "source": [
    "#Checking the bal of target variable\n",
    "train.Exited.value_counts(normalize=True)"
   ]
  },
  {
   "cell_type": "code",
   "execution_count": 12,
   "id": "72e9e82d",
   "metadata": {},
   "outputs": [
    {
     "data": {
      "text/plain": [
       "Index(['id', 'CustomerId', 'CreditScore', 'Age', 'Tenure', 'Balance',\n",
       "       'NumOfProducts', 'HasCrCard', 'IsActiveMember', 'EstimatedSalary',\n",
       "       'Exited'],\n",
       "      dtype='object')"
      ]
     },
     "execution_count": 12,
     "metadata": {},
     "output_type": "execute_result"
    }
   ],
   "source": [
    "# We will analyse the Numerical Column using select dtypes:\n",
    "num_cols = combined.select_dtypes(include=np.number).columns\n",
    "num_cols"
   ]
  },
  {
   "cell_type": "code",
   "execution_count": 13,
   "id": "450eaed1",
   "metadata": {},
   "outputs": [
    {
     "data": {
      "text/plain": [
       "Index(['Surname', 'Geography', 'Gender'], dtype='object')"
      ]
     },
     "execution_count": 13,
     "metadata": {},
     "output_type": "execute_result"
    }
   ],
   "source": [
    "# We will analyse the Categorical Column using select dtypes:\n",
    "cat_cols = combined.select_dtypes(include=\"object\").columns\n",
    "cat_cols"
   ]
  },
  {
   "cell_type": "markdown",
   "id": "54597613",
   "metadata": {},
   "source": [
    "# Visualization :"
   ]
  },
  {
   "cell_type": "code",
   "execution_count": 14,
   "id": "fd0b25b9",
   "metadata": {},
   "outputs": [
    {
     "data": {
      "image/png": "[encoded data removed]",
      "text/plain": [
       "<Figure size 700x500 with 2 Axes>"
      ]
     },
     "metadata": {},
     "output_type": "display_data"
    }
   ],
   "source": [
    "corr = combined.corr()\n",
    "plt.figure(figsize=(7,5))\n",
    "sns.heatmap(corr, annot=True, fmt='.2f',vmin=-1,vmax=1);"
   ]
  },
  {
   "cell_type": "code",
   "execution_count": 15,
   "id": "af445df4",
   "metadata": {},
   "outputs": [
    {
     "data": {
      "text/plain": [
       "id                      0\n",
       "CustomerId              0\n",
       "Surname                 0\n",
       "CreditScore             0\n",
       "Geography               0\n",
       "Gender                  0\n",
       "Age                     0\n",
       "Tenure                  0\n",
       "Balance                 0\n",
       "NumOfProducts           0\n",
       "HasCrCard               0\n",
       "IsActiveMember          0\n",
       "EstimatedSalary         0\n",
       "Exited             110023\n",
       "dtype: int64"
      ]
     },
     "execution_count": 15,
     "metadata": {},
     "output_type": "execute_result"
    }
   ],
   "source": [
    "# Check The Missing Values :\n",
    "combined.isnull().sum()"
   ]
  },
  {
   "cell_type": "markdown",
   "id": "64926152",
   "metadata": {},
   "source": [
    "# Lets Remove the Insignificant Columns From Data:"
   ]
  },
  {
   "cell_type": "code",
   "execution_count": 16,
   "id": "ebe6479f",
   "metadata": {},
   "outputs": [],
   "source": [
    "combined.drop(columns=[\"id\",\"CustomerId\",\"Surname\"],inplace=True)"
   ]
  },
  {
   "cell_type": "code",
   "execution_count": 17,
   "id": "276641ed",
   "metadata": {},
   "outputs": [
    {
     "data": {
      "text/plain": [
       "Index(['CreditScore', 'Geography', 'Gender', 'Age', 'Tenure', 'Balance',\n",
       "       'NumOfProducts', 'HasCrCard', 'IsActiveMember', 'EstimatedSalary',\n",
       "       'Exited'],\n",
       "      dtype='object')"
      ]
     },
     "execution_count": 17,
     "metadata": {},
     "output_type": "execute_result"
    }
   ],
   "source": [
    "combined.columns"
   ]
  },
  {
   "cell_type": "markdown",
   "id": "f3d86a38",
   "metadata": {},
   "source": [
    "### Lest Encode Categorical Columns :"
   ]
  },
  {
   "cell_type": "code",
   "execution_count": 18,
   "id": "f762a9cf",
   "metadata": {},
   "outputs": [
    {
     "data": {
      "text/plain": [
       "France     157386\n",
       "Spain       60126\n",
       "Germany     57545\n",
       "Name: Geography, dtype: int64"
      ]
     },
     "execution_count": 18,
     "metadata": {},
     "output_type": "execute_result"
    }
   ],
   "source": [
    "combined[\"Geography\"].value_counts()"
   ]
  },
  {
   "cell_type": "code",
   "execution_count": 19,
   "id": "74e4230c",
   "metadata": {},
   "outputs": [
    {
     "data": {
      "text/plain": [
       "Male      155092\n",
       "Female    119965\n",
       "Name: Gender, dtype: int64"
      ]
     },
     "execution_count": 19,
     "metadata": {},
     "output_type": "execute_result"
    }
   ],
   "source": [
    "combined[\"Gender\"].value_counts()"
   ]
  },
  {
   "cell_type": "code",
   "execution_count": 20,
   "id": "4f1ef08c",
   "metadata": {},
   "outputs": [
    {
     "data": {
      "text/html": [
       "<div>\n",
       "<style scoped>\n",
       "    .dataframe tbody tr th:only-of-type {\n",
       "        vertical-align: middle;\n",
       "    }\n",
       "\n",
       "    .dataframe tbody tr th {\n",
       "        vertical-align: top;\n",
       "    }\n",
       "\n",
       "    .dataframe thead th {\n",
       "        text-align: right;\n",
       "    }\n",
       "</style>\n",
       "<table border=\"1\" class=\"dataframe\">\n",
       "  <thead>\n",
       "    <tr style=\"text-align: right;\">\n",
       "      <th></th>\n",
       "      <th>CreditScore</th>\n",
       "      <th>Age</th>\n",
       "      <th>Tenure</th>\n",
       "      <th>Balance</th>\n",
       "      <th>NumOfProducts</th>\n",
       "      <th>HasCrCard</th>\n",
       "      <th>IsActiveMember</th>\n",
       "      <th>EstimatedSalary</th>\n",
       "      <th>Exited</th>\n",
       "      <th>Geography_Germany</th>\n",
       "      <th>Geography_Spain</th>\n",
       "      <th>Gender_Male</th>\n",
       "    </tr>\n",
       "  </thead>\n",
       "  <tbody>\n",
       "    <tr>\n",
       "      <th>0</th>\n",
       "      <td>668</td>\n",
       "      <td>33.0</td>\n",
       "      <td>3</td>\n",
       "      <td>0.0</td>\n",
       "      <td>2</td>\n",
       "      <td>1.0</td>\n",
       "      <td>0.0</td>\n",
       "      <td>181449.97</td>\n",
       "      <td>0.0</td>\n",
       "      <td>0</td>\n",
       "      <td>0</td>\n",
       "      <td>1</td>\n",
       "    </tr>\n",
       "    <tr>\n",
       "      <th>1</th>\n",
       "      <td>627</td>\n",
       "      <td>33.0</td>\n",
       "      <td>1</td>\n",
       "      <td>0.0</td>\n",
       "      <td>2</td>\n",
       "      <td>1.0</td>\n",
       "      <td>1.0</td>\n",
       "      <td>49503.50</td>\n",
       "      <td>0.0</td>\n",
       "      <td>0</td>\n",
       "      <td>0</td>\n",
       "      <td>1</td>\n",
       "    </tr>\n",
       "    <tr>\n",
       "      <th>2</th>\n",
       "      <td>678</td>\n",
       "      <td>40.0</td>\n",
       "      <td>10</td>\n",
       "      <td>0.0</td>\n",
       "      <td>2</td>\n",
       "      <td>1.0</td>\n",
       "      <td>0.0</td>\n",
       "      <td>184866.69</td>\n",
       "      <td>0.0</td>\n",
       "      <td>0</td>\n",
       "      <td>0</td>\n",
       "      <td>1</td>\n",
       "    </tr>\n",
       "  </tbody>\n",
       "</table>\n",
       "</div>"
      ],
      "text/plain": [
       "   CreditScore   Age  Tenure  Balance  NumOfProducts  HasCrCard  \\\n",
       "0          668  33.0       3      0.0              2        1.0   \n",
       "1          627  33.0       1      0.0              2        1.0   \n",
       "2          678  40.0      10      0.0              2        1.0   \n",
       "\n",
       "   IsActiveMember  EstimatedSalary  Exited  Geography_Germany  \\\n",
       "0             0.0        181449.97     0.0                  0   \n",
       "1             1.0         49503.50     0.0                  0   \n",
       "2             0.0        184866.69     0.0                  0   \n",
       "\n",
       "   Geography_Spain  Gender_Male  \n",
       "0                0            1  \n",
       "1                0            1  \n",
       "2                0            1  "
      ]
     },
     "execution_count": 20,
     "metadata": {},
     "output_type": "execute_result"
    }
   ],
   "source": [
    "data = pd.get_dummies(combined,drop_first=True,dtype=int)\n",
    "data.head(3)"
   ]
  },
  {
   "cell_type": "code",
   "execution_count": 21,
   "id": "7b7758b9",
   "metadata": {},
   "outputs": [
    {
     "data": {
      "text/plain": [
       "CreditScore            int64\n",
       "Age                  float64\n",
       "Tenure                 int64\n",
       "Balance              float64\n",
       "NumOfProducts          int64\n",
       "HasCrCard            float64\n",
       "IsActiveMember       float64\n",
       "EstimatedSalary      float64\n",
       "Exited               float64\n",
       "Geography_Germany      int32\n",
       "Geography_Spain        int32\n",
       "Gender_Male            int32\n",
       "dtype: object"
      ]
     },
     "execution_count": 21,
     "metadata": {},
     "output_type": "execute_result"
    }
   ],
   "source": [
    "# Check the Datatype Of Variables :\n",
    "data.dtypes"
   ]
  },
  {
   "cell_type": "markdown",
   "id": "a4657d9d",
   "metadata": {},
   "source": [
    "### Split the Data"
   ]
  },
  {
   "cell_type": "code",
   "execution_count": 22,
   "id": "851a25af",
   "metadata": {},
   "outputs": [],
   "source": [
    "train_data = data[data[\"Exited\"].notnull()]\n",
    "pred_data = data[data[\"Exited\"].isnull()]"
   ]
  },
  {
   "cell_type": "code",
   "execution_count": 23,
   "id": "2091399f",
   "metadata": {},
   "outputs": [
    {
     "data": {
      "text/plain": [
       "(165034, 12)"
      ]
     },
     "execution_count": 23,
     "metadata": {},
     "output_type": "execute_result"
    }
   ],
   "source": [
    "train_data.shape"
   ]
  },
  {
   "cell_type": "code",
   "execution_count": 24,
   "id": "ac894560",
   "metadata": {},
   "outputs": [
    {
     "data": {
      "text/plain": [
       "(110023, 12)"
      ]
     },
     "execution_count": 24,
     "metadata": {},
     "output_type": "execute_result"
    }
   ],
   "source": [
    "pred_data.shape"
   ]
  },
  {
   "cell_type": "code",
   "execution_count": 25,
   "id": "ab0f3473",
   "metadata": {},
   "outputs": [],
   "source": [
    "x = train_data.drop(columns=[\"Exited\"])\n",
    "y = train_data[\"Exited\"]\n",
    "x_train,x_test,y_train,y_test = train_test_split(x,y,train_size=0.8,stratify=y,random_state=2)"
   ]
  },
  {
   "cell_type": "code",
   "execution_count": 26,
   "id": "0b4ce461",
   "metadata": {},
   "outputs": [
    {
     "name": "stdout",
     "output_type": "stream",
     "text": [
      "(132027, 11) (132027,) (33007, 11) (33007,)\n"
     ]
    }
   ],
   "source": [
    "print(x_train.shape,y_train.shape,x_test.shape,y_test.shape)"
   ]
  },
  {
   "cell_type": "markdown",
   "id": "8779d10a",
   "metadata": {},
   "source": [
    "### Modelling : "
   ]
  },
  {
   "cell_type": "code",
   "execution_count": 27,
   "id": "3390d357",
   "metadata": {},
   "outputs": [
    {
     "data": {
      "text/html": [
       "<style>#sk-container-id-1 {color: black;}#sk-container-id-1 pre{padding: 0;}#sk-container-id-1 div.sk-toggleable {background-color: white;}#sk-container-id-1 label.sk-toggleable__label {cursor: pointer;display: block;width: 100%;margin-bottom: 0;padding: 0.3em;box-sizing: border-box;text-align: center;}#sk-container-id-1 label.sk-toggleable__label-arrow:before {content: \"▸\";float: left;margin-right: 0.25em;color: #696969;}#sk-container-id-1 label.sk-toggleable__label-arrow:hover:before {color: black;}#sk-container-id-1 div.sk-estimator:hover label.sk-toggleable__label-arrow:before {color: black;}#sk-container-id-1 div.sk-toggleable__content {max-height: 0;max-width: 0;overflow: hidden;text-align: left;background-color: #f0f8ff;}#sk-container-id-1 div.sk-toggleable__content pre {margin: 0.2em;color: black;border-radius: 0.25em;background-color: #f0f8ff;}#sk-container-id-1 input.sk-toggleable__control:checked~div.sk-toggleable__content {max-height: 200px;max-width: 100%;overflow: auto;}#sk-container-id-1 input.sk-toggleable__control:checked~label.sk-toggleable__label-arrow:before {content: \"▾\";}#sk-container-id-1 div.sk-estimator input.sk-toggleable__control:checked~label.sk-toggleable__label {background-color: #d4ebff;}#sk-container-id-1 div.sk-label input.sk-toggleable__control:checked~label.sk-toggleable__label {background-color: #d4ebff;}#sk-container-id-1 input.sk-hidden--visually {border: 0;clip: rect(1px 1px 1px 1px);clip: rect(1px, 1px, 1px, 1px);height: 1px;margin: -1px;overflow: hidden;padding: 0;position: absolute;width: 1px;}#sk-container-id-1 div.sk-estimator {font-family: monospace;background-color: #f0f8ff;border: 1px dotted black;border-radius: 0.25em;box-sizing: border-box;margin-bottom: 0.5em;}#sk-container-id-1 div.sk-estimator:hover {background-color: #d4ebff;}#sk-container-id-1 div.sk-parallel-item::after {content: \"\";width: 100%;border-bottom: 1px solid gray;flex-grow: 1;}#sk-container-id-1 div.sk-label:hover label.sk-toggleable__label {background-color: #d4ebff;}#sk-container-id-1 div.sk-serial::before {content: \"\";position: absolute;border-left: 1px solid gray;box-sizing: border-box;top: 0;bottom: 0;left: 50%;z-index: 0;}#sk-container-id-1 div.sk-serial {display: flex;flex-direction: column;align-items: center;background-color: white;padding-right: 0.2em;padding-left: 0.2em;position: relative;}#sk-container-id-1 div.sk-item {position: relative;z-index: 1;}#sk-container-id-1 div.sk-parallel {display: flex;align-items: stretch;justify-content: center;background-color: white;position: relative;}#sk-container-id-1 div.sk-item::before, #sk-container-id-1 div.sk-parallel-item::before {content: \"\";position: absolute;border-left: 1px solid gray;box-sizing: border-box;top: 0;bottom: 0;left: 50%;z-index: -1;}#sk-container-id-1 div.sk-parallel-item {display: flex;flex-direction: column;z-index: 1;position: relative;background-color: white;}#sk-container-id-1 div.sk-parallel-item:first-child::after {align-self: flex-end;width: 50%;}#sk-container-id-1 div.sk-parallel-item:last-child::after {align-self: flex-start;width: 50%;}#sk-container-id-1 div.sk-parallel-item:only-child::after {width: 0;}#sk-container-id-1 div.sk-dashed-wrapped {border: 1px dashed gray;margin: 0 0.4em 0.5em 0.4em;box-sizing: border-box;padding-bottom: 0.4em;background-color: white;}#sk-container-id-1 div.sk-label label {font-family: monospace;font-weight: bold;display: inline-block;line-height: 1.2em;}#sk-container-id-1 div.sk-label-container {text-align: center;}#sk-container-id-1 div.sk-container {/* jupyter's `normalize.less` sets `[hidden] { display: none; }` but bootstrap.min.css set `[hidden] { display: none !important; }` so we also need the `!important` here to be able to override the default hidden behavior on the sphinx rendered scikit-learn.org. See: https://github.com/scikit-learn/scikit-learn/issues/21755 */display: inline-block !important;position: relative;}#sk-container-id-1 div.sk-text-repr-fallback {display: none;}</style><div id=\"sk-container-id-1\" class=\"sk-top-container\"><div class=\"sk-text-repr-fallback\"><pre>LogisticRegression()</pre><b>In a Jupyter environment, please rerun this cell to show the HTML representation or trust the notebook. <br />On GitHub, the HTML representation is unable to render, please try loading this page with nbviewer.org.</b></div><div class=\"sk-container\" hidden><div class=\"sk-item\"><div class=\"sk-estimator sk-toggleable\"><input class=\"sk-toggleable__control sk-hidden--visually\" id=\"sk-estimator-id-1\" type=\"checkbox\" checked><label for=\"sk-estimator-id-1\" class=\"sk-toggleable__label sk-toggleable__label-arrow\">LogisticRegression</label><div class=\"sk-toggleable__content\"><pre>LogisticRegression()</pre></div></div></div></div></div>"
      ],
      "text/plain": [
       "LogisticRegression()"
      ]
     },
     "execution_count": 27,
     "metadata": {},
     "output_type": "execute_result"
    }
   ],
   "source": [
    "#Using logistic regression supervised ML classification model\n",
    "lr=LogisticRegression()\n",
    "lr.fit(x_train,y_train)"
   ]
  },
  {
   "cell_type": "code",
   "execution_count": 28,
   "id": "55a3d8d1",
   "metadata": {},
   "outputs": [
    {
     "name": "stdout",
     "output_type": "stream",
     "text": [
      "0.787832883933711\n",
      "[[25103   920]\n",
      " [ 6083   901]]\n",
      "              precision    recall  f1-score   support\n",
      "\n",
      "         0.0       0.80      0.96      0.88     26023\n",
      "         1.0       0.49      0.13      0.20      6984\n",
      "\n",
      "    accuracy                           0.79     33007\n",
      "   macro avg       0.65      0.55      0.54     33007\n",
      "weighted avg       0.74      0.79      0.74     33007\n",
      "\n",
      "0.5468279112639761\n"
     ]
    }
   ],
   "source": [
    "ypred=lr.predict(x_test)\n",
    "print(accuracy_score(y_test,ypred))\n",
    "print(confusion_matrix(y_test,ypred))\n",
    "print(classification_report(y_test,ypred))\n",
    "print(roc_auc_score(y_test,ypred))"
   ]
  },
  {
   "cell_type": "code",
   "execution_count": 29,
   "id": "d7c044ca",
   "metadata": {},
   "outputs": [],
   "source": [
    "def Model_validation(model,trainx,trainy,testx,testy):\n",
    "    m = model\n",
    "    m.fit(trainx,trainy)\n",
    "    ypred = m.predict(testx)\n",
    "    print(\"Confusion Matrix\",confusion_matrix(testy,ypred))\n",
    "    print(\"Classification Report\",classification_report(testy,ypred))\n",
    "    prob = m.predict_proba(testx)[:,1]\n",
    "    print(\"Roc_Auc\",roc_auc_score(testy,prob))\n",
    "    \n",
    "    ans = input(\"Do you Want to Save this Model y/n?\")\n",
    "    if ans.lower()==\"y\":\n",
    "        with open(\"final_model.pkl\",\"wb\") as file:\n",
    "            pickle.dump(m,file)\n",
    "        print(\"Model has been Saved\")\n",
    "    else:\n",
    "        print(\"Not Saved\")"
   ]
  },
  {
   "cell_type": "code",
   "execution_count": 30,
   "id": "9af1d8c5",
   "metadata": {},
   "outputs": [
    {
     "name": "stdout",
     "output_type": "stream",
     "text": [
      "Confusion Matrix [[25103   920]\n",
      " [ 6083   901]]\n",
      "Classification Report               precision    recall  f1-score   support\n",
      "\n",
      "         0.0       0.80      0.96      0.88     26023\n",
      "         1.0       0.49      0.13      0.20      6984\n",
      "\n",
      "    accuracy                           0.79     33007\n",
      "   macro avg       0.65      0.55      0.54     33007\n",
      "weighted avg       0.74      0.79      0.74     33007\n",
      "\n",
      "Roc_Auc 0.712773984433279\n",
      "Do you Want to Save this Model y/n?n\n",
      "Not Saved\n"
     ]
    }
   ],
   "source": [
    "Model_validation(LogisticRegression(),x_train,y_train,x_test,y_test)"
   ]
  },
  {
   "cell_type": "code",
   "execution_count": 31,
   "id": "dfd6f294",
   "metadata": {},
   "outputs": [
    {
     "name": "stdout",
     "output_type": "stream",
     "text": [
      "Confusion Matrix [[24848  1175]\n",
      " [ 5625  1359]]\n",
      "Classification Report               precision    recall  f1-score   support\n",
      "\n",
      "         0.0       0.82      0.95      0.88     26023\n",
      "         1.0       0.54      0.19      0.29      6984\n",
      "\n",
      "    accuracy                           0.79     33007\n",
      "   macro avg       0.68      0.57      0.58     33007\n",
      "weighted avg       0.76      0.79      0.75     33007\n",
      "\n",
      "Roc_Auc 0.7658872780352599\n",
      "Do you Want to Save this Model y/n?n\n",
      "Not Saved\n"
     ]
    }
   ],
   "source": [
    "# Naive Bayes :\n",
    "from sklearn.naive_bayes import GaussianNB\n",
    "Model_validation(GaussianNB(),x_train,y_train,x_test,y_test)"
   ]
  },
  {
   "cell_type": "code",
   "execution_count": 32,
   "id": "7aa72a62",
   "metadata": {},
   "outputs": [
    {
     "name": "stdout",
     "output_type": "stream",
     "text": [
      "Confusion Matrix [[25262   761]\n",
      " [ 4178  2806]]\n",
      "Classification Report               precision    recall  f1-score   support\n",
      "\n",
      "         0.0       0.86      0.97      0.91     26023\n",
      "         1.0       0.79      0.40      0.53      6984\n",
      "\n",
      "    accuracy                           0.85     33007\n",
      "   macro avg       0.82      0.69      0.72     33007\n",
      "weighted avg       0.84      0.85      0.83     33007\n",
      "\n",
      "Roc_Auc 0.8773969593775953\n",
      "Do you Want to Save this Model y/n?n\n",
      "Not Saved\n"
     ]
    }
   ],
   "source": [
    "Model_validation(RandomForestClassifier(n_estimators=200,max_depth=5),x_train,y_train,x_test,y_test)"
   ]
  },
  {
   "cell_type": "code",
   "execution_count": 33,
   "id": "a51f1b98",
   "metadata": {},
   "outputs": [
    {
     "name": "stdout",
     "output_type": "stream",
     "text": [
      "Confusion Matrix [[24704  1319]\n",
      " [ 3307  3677]]\n",
      "Classification Report               precision    recall  f1-score   support\n",
      "\n",
      "         0.0       0.88      0.95      0.91     26023\n",
      "         1.0       0.74      0.53      0.61      6984\n",
      "\n",
      "    accuracy                           0.86     33007\n",
      "   macro avg       0.81      0.74      0.76     33007\n",
      "weighted avg       0.85      0.86      0.85     33007\n",
      "\n",
      "Roc_Auc 0.8782845811919221\n",
      "Do you Want to Save this Model y/n?n\n",
      "Not Saved\n"
     ]
    }
   ],
   "source": [
    "Model_validation(AdaBoostClassifier(n_estimators=200),x_train,y_train,x_test,y_test)"
   ]
  },
  {
   "cell_type": "code",
   "execution_count": 34,
   "id": "6297b6a8",
   "metadata": {},
   "outputs": [
    {
     "name": "stdout",
     "output_type": "stream",
     "text": [
      "Confusion Matrix [[24594  1429]\n",
      " [ 3173  3811]]\n",
      "Classification Report               precision    recall  f1-score   support\n",
      "\n",
      "         0.0       0.89      0.95      0.91     26023\n",
      "         1.0       0.73      0.55      0.62      6984\n",
      "\n",
      "    accuracy                           0.86     33007\n",
      "   macro avg       0.81      0.75      0.77     33007\n",
      "weighted avg       0.85      0.86      0.85     33007\n",
      "\n",
      "Roc_Auc 0.8802894492091519\n",
      "Do you Want to Save this Model y/n?n\n",
      "Not Saved\n"
     ]
    }
   ],
   "source": [
    "Model_validation(DecisionTreeClassifier(max_depth=7),x_train,y_train,x_test,y_test)"
   ]
  },
  {
   "cell_type": "code",
   "execution_count": 41,
   "id": "f33add9b",
   "metadata": {},
   "outputs": [
    {
     "name": "stdout",
     "output_type": "stream",
     "text": [
      "Confusion Matrix [[24568  1455]\n",
      " [ 3144  3840]]\n",
      "Classification Report               precision    recall  f1-score   support\n",
      "\n",
      "         0.0       0.89      0.94      0.91     26023\n",
      "         1.0       0.73      0.55      0.63      6984\n",
      "\n",
      "    accuracy                           0.86     33007\n",
      "   macro avg       0.81      0.75      0.77     33007\n",
      "weighted avg       0.85      0.86      0.85     33007\n",
      "\n",
      "Roc_Auc 0.8840645235673315\n",
      "Do you Want to Save this Model y/n?n\n",
      "Not Saved\n"
     ]
    }
   ],
   "source": [
    "Model_validation(XGBClassifier(),x_train,y_train,x_test,y_test)"
   ]
  },
  {
   "cell_type": "code",
   "execution_count": 45,
   "id": "ec71b989",
   "metadata": {},
   "outputs": [],
   "source": [
    "import catboost"
   ]
  },
  {
   "cell_type": "code",
   "execution_count": 46,
   "id": "47ff63c9",
   "metadata": {},
   "outputs": [],
   "source": [
    "from catboost import CatBoostClassifier"
   ]
  },
  {
   "cell_type": "code",
   "execution_count": 54,
   "id": "e395e958",
   "metadata": {},
   "outputs": [
    {
     "name": "stdout",
     "output_type": "stream",
     "text": [
      "0:\tlearn: 0.6382778\ttotal: 14ms\tremaining: 1.39s\n",
      "1:\tlearn: 0.5930268\ttotal: 26.9ms\tremaining: 1.32s\n",
      "2:\tlearn: 0.5558172\ttotal: 36.8ms\tremaining: 1.19s\n",
      "3:\tlearn: 0.5245274\ttotal: 46.3ms\tremaining: 1.11s\n",
      "4:\tlearn: 0.4975617\ttotal: 55.5ms\tremaining: 1.05s\n",
      "5:\tlearn: 0.4749494\ttotal: 64.9ms\tremaining: 1.02s\n",
      "6:\tlearn: 0.4551696\ttotal: 74.4ms\tremaining: 988ms\n",
      "7:\tlearn: 0.4388247\ttotal: 84.1ms\tremaining: 967ms\n",
      "8:\tlearn: 0.4242207\ttotal: 96.4ms\tremaining: 975ms\n",
      "9:\tlearn: 0.4113787\ttotal: 108ms\tremaining: 974ms\n",
      "10:\tlearn: 0.4004191\ttotal: 119ms\tremaining: 964ms\n",
      "11:\tlearn: 0.3909844\ttotal: 130ms\tremaining: 956ms\n",
      "12:\tlearn: 0.3826588\ttotal: 140ms\tremaining: 939ms\n",
      "13:\tlearn: 0.3755273\ttotal: 151ms\tremaining: 927ms\n",
      "14:\tlearn: 0.3692880\ttotal: 160ms\tremaining: 908ms\n",
      "15:\tlearn: 0.3643315\ttotal: 169ms\tremaining: 888ms\n",
      "16:\tlearn: 0.3593801\ttotal: 178ms\tremaining: 869ms\n",
      "17:\tlearn: 0.3550134\ttotal: 187ms\tremaining: 854ms\n",
      "18:\tlearn: 0.3510468\ttotal: 196ms\tremaining: 836ms\n",
      "19:\tlearn: 0.3476164\ttotal: 205ms\tremaining: 819ms\n",
      "20:\tlearn: 0.3450328\ttotal: 213ms\tremaining: 802ms\n",
      "21:\tlearn: 0.3422306\ttotal: 223ms\tremaining: 790ms\n",
      "22:\tlearn: 0.3398825\ttotal: 234ms\tremaining: 784ms\n",
      "23:\tlearn: 0.3377367\ttotal: 244ms\tremaining: 772ms\n",
      "24:\tlearn: 0.3361764\ttotal: 254ms\tremaining: 763ms\n",
      "25:\tlearn: 0.3345073\ttotal: 263ms\tremaining: 749ms\n",
      "26:\tlearn: 0.3329513\ttotal: 272ms\tremaining: 736ms\n",
      "27:\tlearn: 0.3315641\ttotal: 283ms\tremaining: 728ms\n",
      "28:\tlearn: 0.3306832\ttotal: 294ms\tremaining: 721ms\n",
      "29:\tlearn: 0.3296781\ttotal: 307ms\tremaining: 715ms\n",
      "30:\tlearn: 0.3287471\ttotal: 316ms\tremaining: 703ms\n",
      "31:\tlearn: 0.3278266\ttotal: 325ms\tremaining: 690ms\n",
      "32:\tlearn: 0.3272951\ttotal: 333ms\tremaining: 677ms\n",
      "33:\tlearn: 0.3266333\ttotal: 342ms\tremaining: 664ms\n",
      "34:\tlearn: 0.3259747\ttotal: 351ms\tremaining: 652ms\n",
      "35:\tlearn: 0.3253186\ttotal: 360ms\tremaining: 639ms\n",
      "36:\tlearn: 0.3247724\ttotal: 369ms\tremaining: 628ms\n",
      "37:\tlearn: 0.3242629\ttotal: 377ms\tremaining: 616ms\n",
      "38:\tlearn: 0.3238744\ttotal: 386ms\tremaining: 604ms\n",
      "39:\tlearn: 0.3236082\ttotal: 394ms\tremaining: 591ms\n",
      "40:\tlearn: 0.3232668\ttotal: 403ms\tremaining: 579ms\n",
      "41:\tlearn: 0.3229966\ttotal: 411ms\tremaining: 567ms\n",
      "42:\tlearn: 0.3226403\ttotal: 420ms\tremaining: 556ms\n",
      "43:\tlearn: 0.3223983\ttotal: 428ms\tremaining: 545ms\n",
      "44:\tlearn: 0.3222328\ttotal: 438ms\tremaining: 536ms\n",
      "45:\tlearn: 0.3219931\ttotal: 450ms\tremaining: 529ms\n",
      "46:\tlearn: 0.3217718\ttotal: 459ms\tremaining: 518ms\n",
      "47:\tlearn: 0.3216318\ttotal: 468ms\tremaining: 507ms\n",
      "48:\tlearn: 0.3214721\ttotal: 477ms\tremaining: 496ms\n",
      "49:\tlearn: 0.3213096\ttotal: 485ms\tremaining: 485ms\n",
      "50:\tlearn: 0.3210253\ttotal: 494ms\tremaining: 475ms\n",
      "51:\tlearn: 0.3209293\ttotal: 503ms\tremaining: 464ms\n",
      "52:\tlearn: 0.3207147\ttotal: 511ms\tremaining: 453ms\n",
      "53:\tlearn: 0.3206022\ttotal: 519ms\tremaining: 442ms\n",
      "54:\tlearn: 0.3203326\ttotal: 528ms\tremaining: 432ms\n",
      "55:\tlearn: 0.3201776\ttotal: 537ms\tremaining: 422ms\n",
      "56:\tlearn: 0.3200671\ttotal: 545ms\tremaining: 411ms\n",
      "57:\tlearn: 0.3199860\ttotal: 554ms\tremaining: 401ms\n",
      "58:\tlearn: 0.3198126\ttotal: 566ms\tremaining: 393ms\n",
      "59:\tlearn: 0.3197347\ttotal: 575ms\tremaining: 383ms\n",
      "60:\tlearn: 0.3196408\ttotal: 584ms\tremaining: 374ms\n",
      "61:\tlearn: 0.3195566\ttotal: 593ms\tremaining: 364ms\n",
      "62:\tlearn: 0.3194390\ttotal: 602ms\tremaining: 353ms\n",
      "63:\tlearn: 0.3193494\ttotal: 612ms\tremaining: 344ms\n",
      "64:\tlearn: 0.3192057\ttotal: 623ms\tremaining: 336ms\n",
      "65:\tlearn: 0.3191233\ttotal: 633ms\tremaining: 326ms\n",
      "66:\tlearn: 0.3190251\ttotal: 641ms\tremaining: 316ms\n",
      "67:\tlearn: 0.3189431\ttotal: 651ms\tremaining: 306ms\n",
      "68:\tlearn: 0.3188809\ttotal: 661ms\tremaining: 297ms\n",
      "69:\tlearn: 0.3187585\ttotal: 672ms\tremaining: 288ms\n",
      "70:\tlearn: 0.3186872\ttotal: 681ms\tremaining: 278ms\n",
      "71:\tlearn: 0.3185994\ttotal: 690ms\tremaining: 268ms\n",
      "72:\tlearn: 0.3185135\ttotal: 699ms\tremaining: 258ms\n",
      "73:\tlearn: 0.3184564\ttotal: 707ms\tremaining: 249ms\n",
      "74:\tlearn: 0.3183984\ttotal: 716ms\tremaining: 239ms\n",
      "75:\tlearn: 0.3183335\ttotal: 724ms\tremaining: 229ms\n",
      "76:\tlearn: 0.3182883\ttotal: 733ms\tremaining: 219ms\n",
      "77:\tlearn: 0.3182261\ttotal: 741ms\tremaining: 209ms\n",
      "78:\tlearn: 0.3181826\ttotal: 750ms\tremaining: 199ms\n",
      "79:\tlearn: 0.3181216\ttotal: 759ms\tremaining: 190ms\n",
      "80:\tlearn: 0.3180896\ttotal: 766ms\tremaining: 180ms\n",
      "81:\tlearn: 0.3180015\ttotal: 775ms\tremaining: 170ms\n",
      "82:\tlearn: 0.3179529\ttotal: 783ms\tremaining: 160ms\n",
      "83:\tlearn: 0.3179140\ttotal: 792ms\tremaining: 151ms\n",
      "84:\tlearn: 0.3178462\ttotal: 800ms\tremaining: 141ms\n",
      "85:\tlearn: 0.3177587\ttotal: 809ms\tremaining: 132ms\n",
      "86:\tlearn: 0.3176774\ttotal: 818ms\tremaining: 122ms\n",
      "87:\tlearn: 0.3176256\ttotal: 826ms\tremaining: 113ms\n",
      "88:\tlearn: 0.3175794\ttotal: 835ms\tremaining: 103ms\n",
      "89:\tlearn: 0.3174991\ttotal: 844ms\tremaining: 93.8ms\n",
      "90:\tlearn: 0.3174597\ttotal: 854ms\tremaining: 84.4ms\n",
      "91:\tlearn: 0.3174155\ttotal: 864ms\tremaining: 75.1ms\n",
      "92:\tlearn: 0.3173653\ttotal: 875ms\tremaining: 65.8ms\n",
      "93:\tlearn: 0.3173632\ttotal: 880ms\tremaining: 56.1ms\n",
      "94:\tlearn: 0.3173304\ttotal: 889ms\tremaining: 46.8ms\n",
      "95:\tlearn: 0.3172975\ttotal: 898ms\tremaining: 37.4ms\n",
      "96:\tlearn: 0.3172216\ttotal: 907ms\tremaining: 28.1ms\n",
      "97:\tlearn: 0.3171480\ttotal: 916ms\tremaining: 18.7ms\n",
      "98:\tlearn: 0.3170916\ttotal: 925ms\tremaining: 9.35ms\n",
      "99:\tlearn: 0.3170678\ttotal: 934ms\tremaining: 0us\n",
      "Confusion Matrix [[24714  1309]\n",
      " [ 3216  3768]]\n",
      "Classification Report               precision    recall  f1-score   support\n",
      "\n",
      "         0.0       0.88      0.95      0.92     26023\n",
      "         1.0       0.74      0.54      0.62      6984\n",
      "\n",
      "    accuracy                           0.86     33007\n",
      "   macro avg       0.81      0.74      0.77     33007\n",
      "weighted avg       0.85      0.86      0.85     33007\n",
      "\n",
      "Roc_Auc 0.8866356448976166\n",
      "Do you Want to Save this Model y/n?y\n",
      "Model has been Saved\n"
     ]
    }
   ],
   "source": [
    "Model_validation(CatBoostClassifier(iterations=100,learning_rate=0.1,depth=6,l2_leaf_reg=3),x_train,y_train,x_test,y_test)"
   ]
  },
  {
   "cell_type": "markdown",
   "id": "e9c94b27",
   "metadata": {},
   "source": [
    "# Prediction"
   ]
  },
  {
   "cell_type": "code",
   "execution_count": 55,
   "id": "fbaf9449",
   "metadata": {},
   "outputs": [],
   "source": [
    "with open(\"final_model.pkl\",\"rb\") as file:\n",
    "    final_model = pickle.load(file)"
   ]
  },
  {
   "cell_type": "code",
   "execution_count": 56,
   "id": "c19c7e23",
   "metadata": {},
   "outputs": [],
   "source": [
    "submission = pd.read_csv(\"sample_submission.csv\")"
   ]
  },
  {
   "cell_type": "code",
   "execution_count": 57,
   "id": "33119fc6",
   "metadata": {},
   "outputs": [],
   "source": [
    "submission[\"Exited\"] = final_model.predict_proba(pred_data.drop(columns=[\"Exited\"]))[:,1]"
   ]
  },
  {
   "cell_type": "code",
   "execution_count": 58,
   "id": "03e81044",
   "metadata": {},
   "outputs": [
    {
     "data": {
      "text/html": [
       "<div>\n",
       "<style scoped>\n",
       "    .dataframe tbody tr th:only-of-type {\n",
       "        vertical-align: middle;\n",
       "    }\n",
       "\n",
       "    .dataframe tbody tr th {\n",
       "        vertical-align: top;\n",
       "    }\n",
       "\n",
       "    .dataframe thead th {\n",
       "        text-align: right;\n",
       "    }\n",
       "</style>\n",
       "<table border=\"1\" class=\"dataframe\">\n",
       "  <thead>\n",
       "    <tr style=\"text-align: right;\">\n",
       "      <th></th>\n",
       "      <th>id</th>\n",
       "      <th>Exited</th>\n",
       "    </tr>\n",
       "  </thead>\n",
       "  <tbody>\n",
       "    <tr>\n",
       "      <th>0</th>\n",
       "      <td>165034</td>\n",
       "      <td>0.022612</td>\n",
       "    </tr>\n",
       "    <tr>\n",
       "      <th>1</th>\n",
       "      <td>165035</td>\n",
       "      <td>0.853862</td>\n",
       "    </tr>\n",
       "    <tr>\n",
       "      <th>2</th>\n",
       "      <td>165036</td>\n",
       "      <td>0.029595</td>\n",
       "    </tr>\n",
       "    <tr>\n",
       "      <th>3</th>\n",
       "      <td>165037</td>\n",
       "      <td>0.232526</td>\n",
       "    </tr>\n",
       "    <tr>\n",
       "      <th>4</th>\n",
       "      <td>165038</td>\n",
       "      <td>0.355035</td>\n",
       "    </tr>\n",
       "    <tr>\n",
       "      <th>...</th>\n",
       "      <td>...</td>\n",
       "      <td>...</td>\n",
       "    </tr>\n",
       "    <tr>\n",
       "      <th>110018</th>\n",
       "      <td>275052</td>\n",
       "      <td>0.047197</td>\n",
       "    </tr>\n",
       "    <tr>\n",
       "      <th>110019</th>\n",
       "      <td>275053</td>\n",
       "      <td>0.097878</td>\n",
       "    </tr>\n",
       "    <tr>\n",
       "      <th>110020</th>\n",
       "      <td>275054</td>\n",
       "      <td>0.018259</td>\n",
       "    </tr>\n",
       "    <tr>\n",
       "      <th>110021</th>\n",
       "      <td>275055</td>\n",
       "      <td>0.146876</td>\n",
       "    </tr>\n",
       "    <tr>\n",
       "      <th>110022</th>\n",
       "      <td>275056</td>\n",
       "      <td>0.187558</td>\n",
       "    </tr>\n",
       "  </tbody>\n",
       "</table>\n",
       "<p>110023 rows × 2 columns</p>\n",
       "</div>"
      ],
      "text/plain": [
       "            id    Exited\n",
       "0       165034  0.022612\n",
       "1       165035  0.853862\n",
       "2       165036  0.029595\n",
       "3       165037  0.232526\n",
       "4       165038  0.355035\n",
       "...        ...       ...\n",
       "110018  275052  0.047197\n",
       "110019  275053  0.097878\n",
       "110020  275054  0.018259\n",
       "110021  275055  0.146876\n",
       "110022  275056  0.187558\n",
       "\n",
       "[110023 rows x 2 columns]"
      ]
     },
     "execution_count": 58,
     "metadata": {},
     "output_type": "execute_result"
    }
   ],
   "source": [
    "submission"
   ]
  },
  {
   "cell_type": "code",
   "execution_count": 59,
   "id": "7c9b98e6",
   "metadata": {},
   "outputs": [],
   "source": [
    "submission.to_csv(\"final_submission.csv\",index=False)"
   ]
  },
  {
   "cell_type": "code",
   "execution_count": null,
   "id": "0c31f211",
   "metadata": {},
   "outputs": [],
   "source": []
  },
  {
   "cell_type": "code",
   "execution_count": null,
   "id": "75c59cc6",
   "metadata": {},
   "outputs": [],
   "source": []
  },
  {
   "cell_type": "code",
   "execution_count": null,
   "id": "f05a24d0",
   "metadata": {},
   "outputs": [],
   "source": []
  }
 ],
 "metadata": {
  "kernelspec": {
   "display_name": "Python 3 (ipykernel)",
   "language": "python",
   "name": "python3"
  },
  "language_info": {
   "codemirror_mode": {
    "name": "ipython",
    "version": 3
   },
   "file_extension": ".py",
   "mimetype": "text/x-python",
   "name": "python",
   "nbconvert_exporter": "python",
   "pygments_lexer": "ipython3",
   "version": "3.11.4"
  }
 },
 "nbformat": 4,
 "nbformat_minor": 5
}
