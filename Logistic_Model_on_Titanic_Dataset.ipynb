{
 "cells": [
  {
   "cell_type": "code",
   "execution_count": 2,
   "id": "159250da",
   "metadata": {},
   "outputs": [],
   "source": [
    "import pandas as pd\n",
    "import numpy as np\n",
    "import matplotlib.pyplot as plt\n",
    "import seaborn as sns\n",
    "import warnings\n",
    "warnings.filterwarnings('ignore')"
   ]
  },
  {
   "cell_type": "code",
   "execution_count": 3,
   "id": "2b800bbc",
   "metadata": {},
   "outputs": [
    {
     "data": {
      "text/html": [
       "<div>\n",
       "<style scoped>\n",
       "    .dataframe tbody tr th:only-of-type {\n",
       "        vertical-align: middle;\n",
       "    }\n",
       "\n",
       "    .dataframe tbody tr th {\n",
       "        vertical-align: top;\n",
       "    }\n",
       "\n",
       "    .dataframe thead th {\n",
       "        text-align: right;\n",
       "    }\n",
       "</style>\n",
       "<table border=\"1\" class=\"dataframe\">\n",
       "  <thead>\n",
       "    <tr style=\"text-align: right;\">\n",
       "      <th></th>\n",
       "      <th>PassengerId</th>\n",
       "      <th>Survived</th>\n",
       "      <th>Pclass</th>\n",
       "      <th>Name</th>\n",
       "      <th>Sex</th>\n",
       "      <th>Age</th>\n",
       "      <th>SibSp</th>\n",
       "      <th>Parch</th>\n",
       "      <th>Ticket</th>\n",
       "      <th>Fare</th>\n",
       "      <th>Cabin</th>\n",
       "      <th>Embarked</th>\n",
       "    </tr>\n",
       "  </thead>\n",
       "  <tbody>\n",
       "    <tr>\n",
       "      <th>0</th>\n",
       "      <td>1</td>\n",
       "      <td>0</td>\n",
       "      <td>3</td>\n",
       "      <td>Braund, Mr. Owen Harris</td>\n",
       "      <td>male</td>\n",
       "      <td>22.0</td>\n",
       "      <td>1</td>\n",
       "      <td>0</td>\n",
       "      <td>A/5 21171</td>\n",
       "      <td>7.2500</td>\n",
       "      <td>NaN</td>\n",
       "      <td>S</td>\n",
       "    </tr>\n",
       "    <tr>\n",
       "      <th>1</th>\n",
       "      <td>2</td>\n",
       "      <td>1</td>\n",
       "      <td>1</td>\n",
       "      <td>Cumings, Mrs. John Bradley (Florence Briggs Th...</td>\n",
       "      <td>female</td>\n",
       "      <td>38.0</td>\n",
       "      <td>1</td>\n",
       "      <td>0</td>\n",
       "      <td>PC 17599</td>\n",
       "      <td>71.2833</td>\n",
       "      <td>C85</td>\n",
       "      <td>C</td>\n",
       "    </tr>\n",
       "    <tr>\n",
       "      <th>2</th>\n",
       "      <td>3</td>\n",
       "      <td>1</td>\n",
       "      <td>3</td>\n",
       "      <td>Heikkinen, Miss. Laina</td>\n",
       "      <td>female</td>\n",
       "      <td>26.0</td>\n",
       "      <td>0</td>\n",
       "      <td>0</td>\n",
       "      <td>STON/O2. 3101282</td>\n",
       "      <td>7.9250</td>\n",
       "      <td>NaN</td>\n",
       "      <td>S</td>\n",
       "    </tr>\n",
       "    <tr>\n",
       "      <th>3</th>\n",
       "      <td>4</td>\n",
       "      <td>1</td>\n",
       "      <td>1</td>\n",
       "      <td>Futrelle, Mrs. Jacques Heath (Lily May Peel)</td>\n",
       "      <td>female</td>\n",
       "      <td>35.0</td>\n",
       "      <td>1</td>\n",
       "      <td>0</td>\n",
       "      <td>113803</td>\n",
       "      <td>53.1000</td>\n",
       "      <td>C123</td>\n",
       "      <td>S</td>\n",
       "    </tr>\n",
       "    <tr>\n",
       "      <th>4</th>\n",
       "      <td>5</td>\n",
       "      <td>0</td>\n",
       "      <td>3</td>\n",
       "      <td>Allen, Mr. William Henry</td>\n",
       "      <td>male</td>\n",
       "      <td>35.0</td>\n",
       "      <td>0</td>\n",
       "      <td>0</td>\n",
       "      <td>373450</td>\n",
       "      <td>8.0500</td>\n",
       "      <td>NaN</td>\n",
       "      <td>S</td>\n",
       "    </tr>\n",
       "  </tbody>\n",
       "</table>\n",
       "</div>"
      ],
      "text/plain": [
       "   PassengerId  Survived  Pclass  \\\n",
       "0            1         0       3   \n",
       "1            2         1       1   \n",
       "2            3         1       3   \n",
       "3            4         1       1   \n",
       "4            5         0       3   \n",
       "\n",
       "                                                Name     Sex   Age  SibSp  \\\n",
       "0                            Braund, Mr. Owen Harris    male  22.0      1   \n",
       "1  Cumings, Mrs. John Bradley (Florence Briggs Th...  female  38.0      1   \n",
       "2                             Heikkinen, Miss. Laina  female  26.0      0   \n",
       "3       Futrelle, Mrs. Jacques Heath (Lily May Peel)  female  35.0      1   \n",
       "4                           Allen, Mr. William Henry    male  35.0      0   \n",
       "\n",
       "   Parch            Ticket     Fare Cabin Embarked  \n",
       "0      0         A/5 21171   7.2500   NaN        S  \n",
       "1      0          PC 17599  71.2833   C85        C  \n",
       "2      0  STON/O2. 3101282   7.9250   NaN        S  \n",
       "3      0            113803  53.1000  C123        S  \n",
       "4      0            373450   8.0500   NaN        S  "
      ]
     },
     "execution_count": 3,
     "metadata": {},
     "output_type": "execute_result"
    }
   ],
   "source": [
    "# Import Datasets\n",
    "train = pd.read_csv(\"train.csv\")\n",
    "test = pd.read_csv(\"test.csv\")\n",
    "train.head()"
   ]
  },
  {
   "cell_type": "code",
   "execution_count": null,
   "id": "3045fa8d",
   "metadata": {},
   "outputs": [],
   "source": []
  },
  {
   "cell_type": "code",
   "execution_count": 4,
   "id": "dcf1206f",
   "metadata": {},
   "outputs": [
    {
     "data": {
      "text/html": [
       "<div>\n",
       "<style scoped>\n",
       "    .dataframe tbody tr th:only-of-type {\n",
       "        vertical-align: middle;\n",
       "    }\n",
       "\n",
       "    .dataframe tbody tr th {\n",
       "        vertical-align: top;\n",
       "    }\n",
       "\n",
       "    .dataframe thead th {\n",
       "        text-align: right;\n",
       "    }\n",
       "</style>\n",
       "<table border=\"1\" class=\"dataframe\">\n",
       "  <thead>\n",
       "    <tr style=\"text-align: right;\">\n",
       "      <th></th>\n",
       "      <th>PassengerId</th>\n",
       "      <th>Survived</th>\n",
       "      <th>Pclass</th>\n",
       "      <th>Name</th>\n",
       "      <th>Sex</th>\n",
       "      <th>Age</th>\n",
       "      <th>SibSp</th>\n",
       "      <th>Parch</th>\n",
       "      <th>Ticket</th>\n",
       "      <th>Fare</th>\n",
       "      <th>Cabin</th>\n",
       "      <th>Embarked</th>\n",
       "    </tr>\n",
       "  </thead>\n",
       "  <tbody>\n",
       "    <tr>\n",
       "      <th>0</th>\n",
       "      <td>1</td>\n",
       "      <td>0.0</td>\n",
       "      <td>3</td>\n",
       "      <td>Braund, Mr. Owen Harris</td>\n",
       "      <td>male</td>\n",
       "      <td>22.0</td>\n",
       "      <td>1</td>\n",
       "      <td>0</td>\n",
       "      <td>A/5 21171</td>\n",
       "      <td>7.2500</td>\n",
       "      <td>NaN</td>\n",
       "      <td>S</td>\n",
       "    </tr>\n",
       "    <tr>\n",
       "      <th>1</th>\n",
       "      <td>2</td>\n",
       "      <td>1.0</td>\n",
       "      <td>1</td>\n",
       "      <td>Cumings, Mrs. John Bradley (Florence Briggs Th...</td>\n",
       "      <td>female</td>\n",
       "      <td>38.0</td>\n",
       "      <td>1</td>\n",
       "      <td>0</td>\n",
       "      <td>PC 17599</td>\n",
       "      <td>71.2833</td>\n",
       "      <td>C85</td>\n",
       "      <td>C</td>\n",
       "    </tr>\n",
       "  </tbody>\n",
       "</table>\n",
       "</div>"
      ],
      "text/plain": [
       "   PassengerId  Survived  Pclass  \\\n",
       "0            1       0.0       3   \n",
       "1            2       1.0       1   \n",
       "\n",
       "                                                Name     Sex   Age  SibSp  \\\n",
       "0                            Braund, Mr. Owen Harris    male  22.0      1   \n",
       "1  Cumings, Mrs. John Bradley (Florence Briggs Th...  female  38.0      1   \n",
       "\n",
       "   Parch     Ticket     Fare Cabin Embarked  \n",
       "0      0  A/5 21171   7.2500   NaN        S  \n",
       "1      0   PC 17599  71.2833   C85        C  "
      ]
     },
     "execution_count": 4,
     "metadata": {},
     "output_type": "execute_result"
    }
   ],
   "source": [
    "# combine Datasets\n",
    "combined = pd.concat([train,test],ignore_index=True)\n",
    "combined.head(2)"
   ]
  },
  {
   "cell_type": "code",
   "execution_count": 5,
   "id": "813a49f3",
   "metadata": {},
   "outputs": [
    {
     "data": {
      "text/plain": [
       "Survived     418\n",
       "Age          263\n",
       "Fare           1\n",
       "Cabin       1014\n",
       "Embarked       2\n",
       "dtype: int64"
      ]
     },
     "execution_count": 5,
     "metadata": {},
     "output_type": "execute_result"
    }
   ],
   "source": [
    "# Check the missing values\n",
    "combined.isnull().sum()[combined.isnull().sum()!=0]"
   ]
  },
  {
   "cell_type": "code",
   "execution_count": 6,
   "id": "48c40035",
   "metadata": {},
   "outputs": [],
   "source": [
    "# list of Availabe Cabins\n",
    "cabins = ['C85', 'C123', 'E46', 'G6', 'C103', 'D56', 'A6',\n",
    "       'C23 C25 C27', 'B78', 'D33', 'B30', 'C52', 'B28', 'C83', 'F33',\n",
    "       'F G73', 'E31', 'A5', 'D10 D12', 'D26', 'C110', 'B58 B60', 'E101',\n",
    "       'F E69', 'D47', 'B86', 'F2', 'C2', 'E33', 'B19', 'A7', 'C49', 'F4',\n",
    "       'A32', 'B4', 'B80', 'A31', 'D36', 'D15', 'C93', 'C78', 'D35',\n",
    "       'C87', 'B77', 'E67', 'B94', 'C125', 'C99', 'C118', 'D7', 'A19',\n",
    "       'B49', 'D', 'C22 C26', 'C106', 'C65', 'E36', 'C54',\n",
    "       'B57 B59 B63 B66', 'C7', 'E34', 'C32', 'B18', 'C124', 'C91', 'E40',\n",
    "       'T', 'C128', 'D37', 'B35', 'E50', 'C82', 'B96 B98', 'E10', 'E44',\n",
    "       'A34', 'C104', 'C111', 'C92', 'E38', 'D21', 'E12', 'E63', 'A14',\n",
    "       'B37', 'C30', 'D20', 'B79', 'E25', 'D46', 'B73', 'C95', 'B38',\n",
    "       'B39', 'B22', 'C86', 'C70', 'A16', 'C101', 'C68', 'A10', 'E68',\n",
    "       'B41', 'A20', 'D19', 'D50', 'D9', 'A23', 'B50', 'A26', 'D48',\n",
    "       'E58', 'C126', 'B71', 'B51 B53 B55', 'D49', 'B5', 'B20', 'F G63',\n",
    "       'C62 C64', 'E24', 'C90', 'C45', 'E8', 'B101', 'D45', 'C46', 'D30',\n",
    "       'E121', 'D11', 'E77', 'F38', 'B3', 'D6', 'B82 B84', 'D17', 'A36',\n",
    "       'B102', 'B69', 'E49', 'C47', 'D28', 'E17', 'A24', 'C50', 'B42',\n",
    "       'C148', 'B45', 'B36', 'A21', 'D34', 'A9', 'C31', 'B61', 'C53',\n",
    "       'D43', 'C130', 'C132', 'C55 C57', 'C116', 'F', 'A29', 'C6', 'C28',\n",
    "       'C51', 'C97', 'D22', 'B10', 'E45', 'E52', 'A11', 'B11', 'C80',\n",
    "       'C89', 'F E46', 'B26', 'F E57', 'A18', 'E60', 'E39 E41',\n",
    "       'B52 B54 B56', 'C39', 'B24', 'D40', 'D38', 'C105']"
   ]
  },
  {
   "cell_type": "code",
   "execution_count": 7,
   "id": "fbbc67b2",
   "metadata": {},
   "outputs": [
    {
     "data": {
      "text/plain": [
       "((891, 12), (418, 11), (1309, 12))"
      ]
     },
     "execution_count": 7,
     "metadata": {},
     "output_type": "execute_result"
    }
   ],
   "source": [
    "# Shapes of Train,test,combined sets\n",
    "train.shape,test.shape,combined.shape"
   ]
  },
  {
   "cell_type": "code",
   "execution_count": 8,
   "id": "0d0f1a77",
   "metadata": {},
   "outputs": [],
   "source": [
    "# define a function \n",
    "def cabin_labels(x):\n",
    "    if x in cabins:\n",
    "        return(\"Cabin Avbl\")\n",
    "    else:\n",
    "        return(\"Missing\")"
   ]
  },
  {
   "cell_type": "code",
   "execution_count": 9,
   "id": "31f557a2",
   "metadata": {},
   "outputs": [],
   "source": [
    "# lets apply this on cabins column\n",
    "combined[\"Cabin_cat\"] = combined[\"Cabin\"].apply(cabin_labels)"
   ]
  },
  {
   "cell_type": "markdown",
   "id": "9529cc3b",
   "metadata": {},
   "source": [
    "# NAME "
   ]
  },
  {
   "cell_type": "code",
   "execution_count": 10,
   "id": "9ac9d5fb",
   "metadata": {},
   "outputs": [],
   "source": [
    "titles = []\n",
    "for i in combined[\"Name\"]:\n",
    "    titles.append(i.split(\", \")[1].split(\". \")[0])"
   ]
  },
  {
   "cell_type": "code",
   "execution_count": 11,
   "id": "0a222157",
   "metadata": {},
   "outputs": [],
   "source": [
    "combined[\"Titles\"]=pd.Series(titles)"
   ]
  },
  {
   "cell_type": "code",
   "execution_count": 12,
   "id": "11b1b150",
   "metadata": {},
   "outputs": [
    {
     "data": {
      "text/plain": [
       "array(['Mr', 'Mrs', 'Miss', 'Master', 'Don', 'Rev', 'Dr', 'Mme', 'Ms',\n",
       "       'Major', 'Lady', 'Sir', 'Mlle', 'Col', 'Capt', 'the Countess',\n",
       "       'Jonkheer', 'Dona'], dtype=object)"
      ]
     },
     "execution_count": 12,
     "metadata": {},
     "output_type": "execute_result"
    }
   ],
   "source": [
    "combined[\"Titles\"].unique()"
   ]
  },
  {
   "cell_type": "code",
   "execution_count": 13,
   "id": "7d9f85a9",
   "metadata": {},
   "outputs": [],
   "source": [
    "title_ignore = ['Don', 'Rev', 'Dr', 'Mme',\n",
    "       'Major', 'Lady', 'Sir', 'Mlle', 'Col', 'Capt', 'the Countess',\n",
    "       'Jonkheer', 'Dona']\n",
    "\n",
    "def notitle(x):\n",
    "    if x in title_ignore:\n",
    "        return(\"Others\")\n",
    "    else:\n",
    "        return(x)"
   ]
  },
  {
   "cell_type": "code",
   "execution_count": 14,
   "id": "d2464325",
   "metadata": {},
   "outputs": [],
   "source": [
    "combined[\"Titles\"] = combined[\"Titles\"].apply(notitle)"
   ]
  },
  {
   "cell_type": "code",
   "execution_count": 15,
   "id": "e1f44cca",
   "metadata": {},
   "outputs": [],
   "source": [
    "combined.drop([\"PassengerId\",\"Name\",\"Cabin\"],axis=1,inplace=True)"
   ]
  },
  {
   "cell_type": "code",
   "execution_count": 16,
   "id": "6e0ad493",
   "metadata": {},
   "outputs": [],
   "source": [
    "combined.drop(\"Ticket\",axis=1,inplace=True)"
   ]
  },
  {
   "cell_type": "markdown",
   "id": "020b3b46",
   "metadata": {},
   "source": [
    "# Family"
   ]
  },
  {
   "cell_type": "code",
   "execution_count": 17,
   "id": "2bea67a1",
   "metadata": {},
   "outputs": [],
   "source": [
    "combined[\"Family\"] = combined[\"SibSp\"]+combined[\"Parch\"]+1"
   ]
  },
  {
   "cell_type": "code",
   "execution_count": 18,
   "id": "300e791f",
   "metadata": {},
   "outputs": [
    {
     "data": {
      "text/plain": [
       "array([ 2,  1,  5,  3,  7,  6,  4,  8, 11], dtype=int64)"
      ]
     },
     "execution_count": 18,
     "metadata": {},
     "output_type": "execute_result"
    }
   ],
   "source": [
    "combined[\"Family\"].unique()"
   ]
  },
  {
   "cell_type": "code",
   "execution_count": 19,
   "id": "6496e781",
   "metadata": {},
   "outputs": [],
   "source": [
    "def parivar(x):\n",
    "    if x == 1:\n",
    "        return(\"Solo\")\n",
    "    elif x==2:\n",
    "        return(\"Couple\")\n",
    "    elif x<=4:\n",
    "        return(\"Small\")\n",
    "    else:\n",
    "        return(\"Large\")"
   ]
  },
  {
   "cell_type": "code",
   "execution_count": 20,
   "id": "ba016060",
   "metadata": {},
   "outputs": [],
   "source": [
    "combined[\"Family_cat\"] = combined[\"Family\"].apply(parivar)"
   ]
  },
  {
   "cell_type": "markdown",
   "id": "78efa106",
   "metadata": {},
   "source": [
    "# MISSING VALUES :"
   ]
  },
  {
   "cell_type": "code",
   "execution_count": 21,
   "id": "27edea86",
   "metadata": {},
   "outputs": [],
   "source": [
    "missing_titles = combined.loc[combined[\"Age\"].isnull(),\"Titles\"].unique()"
   ]
  },
  {
   "cell_type": "code",
   "execution_count": 22,
   "id": "85acf3f5",
   "metadata": {},
   "outputs": [],
   "source": [
    "for i in missing_titles:\n",
    "    combined.loc[combined[\"Age\"].isnull(),\"Age\"] = combined.loc[combined[\"Titles\"]==i,\"Age\"].median()"
   ]
  },
  {
   "cell_type": "code",
   "execution_count": 23,
   "id": "212efcd1",
   "metadata": {},
   "outputs": [],
   "source": [
    "combined.loc[combined[\"Embarked\"].isnull(),\"Embarked\"] = combined[\"Embarked\"].mode()[0]"
   ]
  },
  {
   "cell_type": "code",
   "execution_count": 24,
   "id": "dc3258f4",
   "metadata": {},
   "outputs": [],
   "source": [
    "combined.loc[combined[\"Fare\"].isnull(),\"Fare\"] = combined[\"Fare\"].median()"
   ]
  },
  {
   "cell_type": "markdown",
   "id": "dd2551d8",
   "metadata": {},
   "source": [
    "# Split the data in train and test Again:"
   ]
  },
  {
   "cell_type": "code",
   "execution_count": 25,
   "id": "d39e2f33",
   "metadata": {},
   "outputs": [
    {
     "data": {
      "text/plain": [
       "((891, 12), (418, 12))"
      ]
     },
     "execution_count": 25,
     "metadata": {},
     "output_type": "execute_result"
    }
   ],
   "source": [
    "new_train = combined.loc[0:train.shape[0]-1]\n",
    "new_test = combined.loc[train.shape[0]:, ]\n",
    "new_train.shape,new_test.shape"
   ]
  },
  {
   "cell_type": "code",
   "execution_count": 26,
   "id": "ca36c18b",
   "metadata": {},
   "outputs": [],
   "source": [
    "X = new_train.drop(\"Survived\",axis=1)\n",
    "y = new_train[\"Survived\"].astype(int)\n",
    "new_test.drop(\"Survived\",inplace=True,axis=1)"
   ]
  },
  {
   "cell_type": "markdown",
   "id": "b1524cbc",
   "metadata": {},
   "source": [
    "# MODEL BUILDING :"
   ]
  },
  {
   "cell_type": "code",
   "execution_count": 40,
   "id": "afcb626c",
   "metadata": {},
   "outputs": [],
   "source": [
    "submission = pd.DataFrame({\"PassengerId\":test[\"PassengerId\"],\"Survived\":0})\n",
    "submission.to_csv(\"basemodel.csv\",index=False) #62%"
   ]
  },
  {
   "cell_type": "code",
   "execution_count": 41,
   "id": "c233b9d3",
   "metadata": {},
   "outputs": [],
   "source": [
    "# dummify the data\n",
    "newX = pd.get_dummies(X,drop_first=True)\n",
    "newtest = pd.get_dummies(new_test,drop_first=True)"
   ]
  },
  {
   "cell_type": "markdown",
   "id": "2a7348e5",
   "metadata": {},
   "source": [
    "# Apply Logistic Regression :"
   ]
  },
  {
   "cell_type": "code",
   "execution_count": 42,
   "id": "83a2257f",
   "metadata": {},
   "outputs": [],
   "source": [
    "from sklearn.linear_model import LogisticRegression\n",
    "lg = LogisticRegression()\n",
    "pred = lg.fit(newX,y).predict(newtest)"
   ]
  },
  {
   "cell_type": "code",
   "execution_count": 59,
   "id": "cf025af4",
   "metadata": {},
   "outputs": [],
   "source": [
    "submission = pd.DataFrame({\"PassengerId\":test[\"PassengerId\"],\"Survived\":pred})\n",
    "submission.to_csv(\"Logistic_titanic.csv\",index=False) # 76%"
   ]
  },
  {
   "cell_type": "code",
   "execution_count": null,
   "id": "3af83a2a",
   "metadata": {},
   "outputs": [],
   "source": []
  },
  {
   "cell_type": "code",
   "execution_count": null,
   "id": "f40407bb",
   "metadata": {},
   "outputs": [],
   "source": []
  },
  {
   "cell_type": "code",
   "execution_count": null,
   "id": "43b9e502",
   "metadata": {},
   "outputs": [],
   "source": []
  },
  {
   "cell_type": "code",
   "execution_count": null,
   "id": "fe771112",
   "metadata": {},
   "outputs": [],
   "source": []
  }
 ],
 "metadata": {
  "kernelspec": {
   "display_name": "Python 3 (ipykernel)",
   "language": "python",
   "name": "python3"
  },
  "language_info": {
   "codemirror_mode": {
    "name": "ipython",
    "version": 3
   },
   "file_extension": ".py",
   "mimetype": "text/x-python",
   "name": "python",
   "nbconvert_exporter": "python",
   "pygments_lexer": "ipython3",
   "version": "3.11.4"
  }
 },
 "nbformat": 4,
 "nbformat_minor": 5
}
